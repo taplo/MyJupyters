{
 "cells": [
  {
   "cell_type": "markdown",
   "metadata": {},
   "source": [
    "# 基于上证指数行情数据的基本分布分析\n",
    "> v0.1\n",
    "> \n",
    "> 20160416\n",
    "> \n",
    "> 主要是涨幅和价格的分析"
   ]
  },
  {
   "cell_type": "markdown",
   "metadata": {},
   "source": [
    "导入模块"
   ]
  },
  {
   "cell_type": "code",
   "execution_count": 13,
   "metadata": {
    "collapsed": false
   },
   "outputs": [],
   "source": [
    "import tushare as ts\n",
    "import pylab\n",
    "import pandas as pd\n",
    "import numpy as np\n",
    "%matplotlib inline\n",
    "code1='sh'\n",
    "code2='000001'"
   ]
  },
  {
   "cell_type": "markdown",
   "metadata": {},
   "source": [
    "### 获得基础信息"
   ]
  },
  {
   "cell_type": "code",
   "execution_count": 14,
   "metadata": {
    "collapsed": false
   },
   "outputs": [
    {
     "data": {
      "text/html": [
       "<div>\n",
       "<table border=\"1\" class=\"dataframe\">\n",
       "  <thead>\n",
       "    <tr style=\"text-align: right;\">\n",
       "      <th></th>\n",
       "      <th>code</th>\n",
       "      <th>name</th>\n",
       "      <th>change</th>\n",
       "      <th>open</th>\n",
       "      <th>preclose</th>\n",
       "      <th>close</th>\n",
       "      <th>high</th>\n",
       "      <th>low</th>\n",
       "      <th>volume</th>\n",
       "      <th>amount</th>\n",
       "    </tr>\n",
       "  </thead>\n",
       "  <tbody>\n",
       "    <tr>\n",
       "      <th>0</th>\n",
       "      <td>000001</td>\n",
       "      <td>上证指数</td>\n",
       "      <td>-0.14</td>\n",
       "      <td>3085.0263</td>\n",
       "      <td>3082.3615</td>\n",
       "      <td>3078.1166</td>\n",
       "      <td>3089.9509</td>\n",
       "      <td>3066.8721</td>\n",
       "      <td>189613051</td>\n",
       "      <td>2241.4131</td>\n",
       "    </tr>\n",
       "    <tr>\n",
       "      <th>1</th>\n",
       "      <td>000002</td>\n",
       "      <td>Ａ股指数</td>\n",
       "      <td>-0.14</td>\n",
       "      <td>3228.6035</td>\n",
       "      <td>3225.7934</td>\n",
       "      <td>3221.3384</td>\n",
       "      <td>3233.7606</td>\n",
       "      <td>3209.5441</td>\n",
       "      <td>189178839</td>\n",
       "      <td>2238.0301</td>\n",
       "    </tr>\n",
       "    <tr>\n",
       "      <th>2</th>\n",
       "      <td>000003</td>\n",
       "      <td>Ｂ股指数</td>\n",
       "      <td>-0.05</td>\n",
       "      <td>380.9272</td>\n",
       "      <td>381.1852</td>\n",
       "      <td>381.0027</td>\n",
       "      <td>381.5961</td>\n",
       "      <td>379.9657</td>\n",
       "      <td>434212</td>\n",
       "      <td>3.3830</td>\n",
       "    </tr>\n",
       "    <tr>\n",
       "      <th>3</th>\n",
       "      <td>000008</td>\n",
       "      <td>综合指数</td>\n",
       "      <td>0.04</td>\n",
       "      <td>2693.2656</td>\n",
       "      <td>2688.5351</td>\n",
       "      <td>2689.5274</td>\n",
       "      <td>2699.8432</td>\n",
       "      <td>2681.0737</td>\n",
       "      <td>43515701</td>\n",
       "      <td>516.3842</td>\n",
       "    </tr>\n",
       "    <tr>\n",
       "      <th>4</th>\n",
       "      <td>000009</td>\n",
       "      <td>上证380</td>\n",
       "      <td>-0.15</td>\n",
       "      <td>5613.1737</td>\n",
       "      <td>5612.3777</td>\n",
       "      <td>5603.6921</td>\n",
       "      <td>5624.9310</td>\n",
       "      <td>5570.4479</td>\n",
       "      <td>56640919</td>\n",
       "      <td>692.3881</td>\n",
       "    </tr>\n",
       "    <tr>\n",
       "      <th>5</th>\n",
       "      <td>000010</td>\n",
       "      <td>上证180</td>\n",
       "      <td>0.03</td>\n",
       "      <td>7048.5325</td>\n",
       "      <td>7037.3724</td>\n",
       "      <td>7039.3256</td>\n",
       "      <td>7063.9444</td>\n",
       "      <td>7011.4783</td>\n",
       "      <td>67573173</td>\n",
       "      <td>711.8506</td>\n",
       "    </tr>\n",
       "    <tr>\n",
       "      <th>6</th>\n",
       "      <td>000011</td>\n",
       "      <td>基金指数</td>\n",
       "      <td>0.00</td>\n",
       "      <td>5693.8953</td>\n",
       "      <td>5691.5488</td>\n",
       "      <td>5691.7921</td>\n",
       "      <td>5696.3754</td>\n",
       "      <td>5686.8564</td>\n",
       "      <td>13412574</td>\n",
       "      <td>388.4134</td>\n",
       "    </tr>\n",
       "    <tr>\n",
       "      <th>7</th>\n",
       "      <td>000012</td>\n",
       "      <td>国债指数</td>\n",
       "      <td>0.01</td>\n",
       "      <td>156.7609</td>\n",
       "      <td>156.7466</td>\n",
       "      <td>156.7556</td>\n",
       "      <td>156.7624</td>\n",
       "      <td>156.7342</td>\n",
       "      <td>281783</td>\n",
       "      <td>2.9885</td>\n",
       "    </tr>\n",
       "    <tr>\n",
       "      <th>8</th>\n",
       "      <td>000016</td>\n",
       "      <td>上证50</td>\n",
       "      <td>0.15</td>\n",
       "      <td>2182.1142</td>\n",
       "      <td>2178.8677</td>\n",
       "      <td>2182.0667</td>\n",
       "      <td>2190.7302</td>\n",
       "      <td>2172.9695</td>\n",
       "      <td>23818860</td>\n",
       "      <td>252.2315</td>\n",
       "    </tr>\n",
       "    <tr>\n",
       "      <th>9</th>\n",
       "      <td>000017</td>\n",
       "      <td>新综指</td>\n",
       "      <td>-0.14</td>\n",
       "      <td>2603.5386</td>\n",
       "      <td>2601.2726</td>\n",
       "      <td>2597.6936</td>\n",
       "      <td>2607.6979</td>\n",
       "      <td>2588.1789</td>\n",
       "      <td>189088293</td>\n",
       "      <td>2236.8938</td>\n",
       "    </tr>\n",
       "    <tr>\n",
       "      <th>10</th>\n",
       "      <td>000300</td>\n",
       "      <td>沪深300</td>\n",
       "      <td>-0.11</td>\n",
       "      <td>3279.8566</td>\n",
       "      <td>3275.8321</td>\n",
       "      <td>3272.2053</td>\n",
       "      <td>3282.9846</td>\n",
       "      <td>3261.7299</td>\n",
       "      <td>99807529</td>\n",
       "      <td>1079.6398</td>\n",
       "    </tr>\n",
       "    <tr>\n",
       "      <th>11</th>\n",
       "      <td>399001</td>\n",
       "      <td>深证成指</td>\n",
       "      <td>-0.35</td>\n",
       "      <td>10774.4880</td>\n",
       "      <td>10771.6140</td>\n",
       "      <td>10733.6350</td>\n",
       "      <td>10784.5970</td>\n",
       "      <td>10680.7430</td>\n",
       "      <td>21846876837</td>\n",
       "      <td>3613.1781</td>\n",
       "    </tr>\n",
       "    <tr>\n",
       "      <th>12</th>\n",
       "      <td>399002</td>\n",
       "      <td>深成指R</td>\n",
       "      <td>-0.35</td>\n",
       "      <td>12596.9720</td>\n",
       "      <td>12593.4350</td>\n",
       "      <td>12549.2090</td>\n",
       "      <td>12608.7910</td>\n",
       "      <td>12487.3710</td>\n",
       "      <td>10270450837</td>\n",
       "      <td>1489.7925</td>\n",
       "    </tr>\n",
       "    <tr>\n",
       "      <th>13</th>\n",
       "      <td>399003</td>\n",
       "      <td>成份Ｂ指</td>\n",
       "      <td>0.02</td>\n",
       "      <td>6467.0940</td>\n",
       "      <td>6493.3200</td>\n",
       "      <td>6494.3920</td>\n",
       "      <td>6519.5840</td>\n",
       "      <td>6454.3130</td>\n",
       "      <td>23137369</td>\n",
       "      <td>1.3921</td>\n",
       "    </tr>\n",
       "    <tr>\n",
       "      <th>14</th>\n",
       "      <td>399004</td>\n",
       "      <td>深证100R</td>\n",
       "      <td>-0.35</td>\n",
       "      <td>4537.8240</td>\n",
       "      <td>4533.5850</td>\n",
       "      <td>4517.9240</td>\n",
       "      <td>4540.3240</td>\n",
       "      <td>4500.3780</td>\n",
       "      <td>3428648485</td>\n",
       "      <td>424.0290</td>\n",
       "    </tr>\n",
       "    <tr>\n",
       "      <th>15</th>\n",
       "      <td>399005</td>\n",
       "      <td>中小板指</td>\n",
       "      <td>-0.41</td>\n",
       "      <td>7039.3300</td>\n",
       "      <td>7040.4930</td>\n",
       "      <td>7011.9190</td>\n",
       "      <td>7044.2810</td>\n",
       "      <td>6978.7900</td>\n",
       "      <td>1620450238</td>\n",
       "      <td>295.2529</td>\n",
       "    </tr>\n",
       "    <tr>\n",
       "      <th>16</th>\n",
       "      <td>399006</td>\n",
       "      <td>创业板指</td>\n",
       "      <td>-0.63</td>\n",
       "      <td>2328.3120</td>\n",
       "      <td>2324.3940</td>\n",
       "      <td>2309.6760</td>\n",
       "      <td>2328.3120</td>\n",
       "      <td>2297.6750</td>\n",
       "      <td>1452697706</td>\n",
       "      <td>373.4134</td>\n",
       "    </tr>\n",
       "    <tr>\n",
       "      <th>17</th>\n",
       "      <td>399100</td>\n",
       "      <td>新 指 数</td>\n",
       "      <td>-0.15</td>\n",
       "      <td>8618.2670</td>\n",
       "      <td>8615.6000</td>\n",
       "      <td>8602.4030</td>\n",
       "      <td>8633.1280</td>\n",
       "      <td>8555.1290</td>\n",
       "      <td>21590426476</td>\n",
       "      <td>3587.7964</td>\n",
       "    </tr>\n",
       "    <tr>\n",
       "      <th>18</th>\n",
       "      <td>399101</td>\n",
       "      <td>中小板综</td>\n",
       "      <td>-0.05</td>\n",
       "      <td>11592.9710</td>\n",
       "      <td>11589.2420</td>\n",
       "      <td>11583.6480</td>\n",
       "      <td>11617.0000</td>\n",
       "      <td>11512.9100</td>\n",
       "      <td>9130299047</td>\n",
       "      <td>1689.1098</td>\n",
       "    </tr>\n",
       "    <tr>\n",
       "      <th>19</th>\n",
       "      <td>399106</td>\n",
       "      <td>深证综指</td>\n",
       "      <td>-0.20</td>\n",
       "      <td>1982.8740</td>\n",
       "      <td>1982.4510</td>\n",
       "      <td>1978.5840</td>\n",
       "      <td>1985.5410</td>\n",
       "      <td>1967.5210</td>\n",
       "      <td>21846876837</td>\n",
       "      <td>3613.1781</td>\n",
       "    </tr>\n",
       "    <tr>\n",
       "      <th>20</th>\n",
       "      <td>399107</td>\n",
       "      <td>深证Ａ指</td>\n",
       "      <td>-0.20</td>\n",
       "      <td>2074.2020</td>\n",
       "      <td>2073.7430</td>\n",
       "      <td>2069.6800</td>\n",
       "      <td>2076.9900</td>\n",
       "      <td>2058.0810</td>\n",
       "      <td>21805056465</td>\n",
       "      <td>3610.7339</td>\n",
       "    </tr>\n",
       "    <tr>\n",
       "      <th>21</th>\n",
       "      <td>399108</td>\n",
       "      <td>深证Ｂ指</td>\n",
       "      <td>0.03</td>\n",
       "      <td>1150.3080</td>\n",
       "      <td>1152.2270</td>\n",
       "      <td>1152.5460</td>\n",
       "      <td>1153.6840</td>\n",
       "      <td>1148.9670</td>\n",
       "      <td>41820372</td>\n",
       "      <td>2.4442</td>\n",
       "    </tr>\n",
       "    <tr>\n",
       "      <th>22</th>\n",
       "      <td>399333</td>\n",
       "      <td>中小板R</td>\n",
       "      <td>-0.41</td>\n",
       "      <td>7625.0240</td>\n",
       "      <td>7626.2840</td>\n",
       "      <td>7595.3330</td>\n",
       "      <td>7630.3880</td>\n",
       "      <td>7559.4480</td>\n",
       "      <td>1620450238</td>\n",
       "      <td>295.2529</td>\n",
       "    </tr>\n",
       "    <tr>\n",
       "      <th>23</th>\n",
       "      <td>399606</td>\n",
       "      <td>创业板R</td>\n",
       "      <td>-0.63</td>\n",
       "      <td>2401.4420</td>\n",
       "      <td>2397.4010</td>\n",
       "      <td>2382.2210</td>\n",
       "      <td>2401.4420</td>\n",
       "      <td>2369.8440</td>\n",
       "      <td>1452697706</td>\n",
       "      <td>373.4134</td>\n",
       "    </tr>\n",
       "  </tbody>\n",
       "</table>\n",
       "</div>"
      ],
      "text/plain": [
       "      code    name  change        open    preclose       close        high  \\\n",
       "0   000001    上证指数   -0.14   3085.0263   3082.3615   3078.1166   3089.9509   \n",
       "1   000002    Ａ股指数   -0.14   3228.6035   3225.7934   3221.3384   3233.7606   \n",
       "2   000003    Ｂ股指数   -0.05    380.9272    381.1852    381.0027    381.5961   \n",
       "3   000008    综合指数    0.04   2693.2656   2688.5351   2689.5274   2699.8432   \n",
       "4   000009   上证380   -0.15   5613.1737   5612.3777   5603.6921   5624.9310   \n",
       "5   000010   上证180    0.03   7048.5325   7037.3724   7039.3256   7063.9444   \n",
       "6   000011    基金指数    0.00   5693.8953   5691.5488   5691.7921   5696.3754   \n",
       "7   000012    国债指数    0.01    156.7609    156.7466    156.7556    156.7624   \n",
       "8   000016    上证50    0.15   2182.1142   2178.8677   2182.0667   2190.7302   \n",
       "9   000017     新综指   -0.14   2603.5386   2601.2726   2597.6936   2607.6979   \n",
       "10  000300   沪深300   -0.11   3279.8566   3275.8321   3272.2053   3282.9846   \n",
       "11  399001    深证成指   -0.35  10774.4880  10771.6140  10733.6350  10784.5970   \n",
       "12  399002    深成指R   -0.35  12596.9720  12593.4350  12549.2090  12608.7910   \n",
       "13  399003    成份Ｂ指    0.02   6467.0940   6493.3200   6494.3920   6519.5840   \n",
       "14  399004  深证100R   -0.35   4537.8240   4533.5850   4517.9240   4540.3240   \n",
       "15  399005    中小板指   -0.41   7039.3300   7040.4930   7011.9190   7044.2810   \n",
       "16  399006    创业板指   -0.63   2328.3120   2324.3940   2309.6760   2328.3120   \n",
       "17  399100   新 指 数   -0.15   8618.2670   8615.6000   8602.4030   8633.1280   \n",
       "18  399101    中小板综   -0.05  11592.9710  11589.2420  11583.6480  11617.0000   \n",
       "19  399106    深证综指   -0.20   1982.8740   1982.4510   1978.5840   1985.5410   \n",
       "20  399107    深证Ａ指   -0.20   2074.2020   2073.7430   2069.6800   2076.9900   \n",
       "21  399108    深证Ｂ指    0.03   1150.3080   1152.2270   1152.5460   1153.6840   \n",
       "22  399333    中小板R   -0.41   7625.0240   7626.2840   7595.3330   7630.3880   \n",
       "23  399606    创业板R   -0.63   2401.4420   2397.4010   2382.2210   2401.4420   \n",
       "\n",
       "           low       volume     amount  \n",
       "0    3066.8721    189613051  2241.4131  \n",
       "1    3209.5441    189178839  2238.0301  \n",
       "2     379.9657       434212     3.3830  \n",
       "3    2681.0737     43515701   516.3842  \n",
       "4    5570.4479     56640919   692.3881  \n",
       "5    7011.4783     67573173   711.8506  \n",
       "6    5686.8564     13412574   388.4134  \n",
       "7     156.7342       281783     2.9885  \n",
       "8    2172.9695     23818860   252.2315  \n",
       "9    2588.1789    189088293  2236.8938  \n",
       "10   3261.7299     99807529  1079.6398  \n",
       "11  10680.7430  21846876837  3613.1781  \n",
       "12  12487.3710  10270450837  1489.7925  \n",
       "13   6454.3130     23137369     1.3921  \n",
       "14   4500.3780   3428648485   424.0290  \n",
       "15   6978.7900   1620450238   295.2529  \n",
       "16   2297.6750   1452697706   373.4134  \n",
       "17   8555.1290  21590426476  3587.7964  \n",
       "18  11512.9100   9130299047  1689.1098  \n",
       "19   1967.5210  21846876837  3613.1781  \n",
       "20   2058.0810  21805056465  3610.7339  \n",
       "21   1148.9670     41820372     2.4442  \n",
       "22   7559.4480   1620450238   295.2529  \n",
       "23   2369.8440   1452697706   373.4134  "
      ]
     },
     "execution_count": 14,
     "metadata": {},
     "output_type": "execute_result"
    }
   ],
   "source": [
    "ind=ts.get_index()\n",
    "ind"
   ]
  },
  {
   "cell_type": "markdown",
   "metadata": {},
   "source": [
    "### 获得近三年的日线数据"
   ]
  },
  {
   "cell_type": "code",
   "execution_count": 15,
   "metadata": {
    "collapsed": false
   },
   "outputs": [
    {
     "data": {
      "text/html": [
       "<div>\n",
       "<table border=\"1\" class=\"dataframe\">\n",
       "  <thead>\n",
       "    <tr style=\"text-align: right;\">\n",
       "      <th></th>\n",
       "      <th>open</th>\n",
       "      <th>high</th>\n",
       "      <th>close</th>\n",
       "      <th>low</th>\n",
       "      <th>volume</th>\n",
       "      <th>price_change</th>\n",
       "      <th>p_change</th>\n",
       "      <th>ma5</th>\n",
       "      <th>ma10</th>\n",
       "      <th>ma20</th>\n",
       "      <th>v_ma5</th>\n",
       "      <th>v_ma10</th>\n",
       "      <th>v_ma20</th>\n",
       "    </tr>\n",
       "    <tr>\n",
       "      <th>date</th>\n",
       "      <th></th>\n",
       "      <th></th>\n",
       "      <th></th>\n",
       "      <th></th>\n",
       "      <th></th>\n",
       "      <th></th>\n",
       "      <th></th>\n",
       "      <th></th>\n",
       "      <th></th>\n",
       "      <th></th>\n",
       "      <th></th>\n",
       "      <th></th>\n",
       "      <th></th>\n",
       "    </tr>\n",
       "  </thead>\n",
       "  <tbody>\n",
       "    <tr>\n",
       "      <th>2016-04-15</th>\n",
       "      <td>3085.03</td>\n",
       "      <td>3089.95</td>\n",
       "      <td>3078.12</td>\n",
       "      <td>3066.87</td>\n",
       "      <td>1896130.50</td>\n",
       "      <td>-4.24</td>\n",
       "      <td>-0.14</td>\n",
       "      <td>3056.946</td>\n",
       "      <td>3039.130</td>\n",
       "      <td>3009.859</td>\n",
       "      <td>2221182.22</td>\n",
       "      <td>2214953.51</td>\n",
       "      <td>2297946.85</td>\n",
       "    </tr>\n",
       "    <tr>\n",
       "      <th>2016-04-14</th>\n",
       "      <td>3080.09</td>\n",
       "      <td>3086.70</td>\n",
       "      <td>3082.36</td>\n",
       "      <td>3056.99</td>\n",
       "      <td>2082378.25</td>\n",
       "      <td>15.72</td>\n",
       "      <td>0.51</td>\n",
       "      <td>3038.314</td>\n",
       "      <td>3031.710</td>\n",
       "      <td>3001.195</td>\n",
       "      <td>2217765.40</td>\n",
       "      <td>2245753.91</td>\n",
       "      <td>2303285.43</td>\n",
       "    </tr>\n",
       "    <tr>\n",
       "      <th>2016-04-13</th>\n",
       "      <td>3041.36</td>\n",
       "      <td>3097.16</td>\n",
       "      <td>3066.64</td>\n",
       "      <td>3041.36</td>\n",
       "      <td>3100032.50</td>\n",
       "      <td>42.99</td>\n",
       "      <td>1.42</td>\n",
       "      <td>3023.526</td>\n",
       "      <td>3023.538</td>\n",
       "      <td>2990.598</td>\n",
       "      <td>2243128.75</td>\n",
       "      <td>2247887.54</td>\n",
       "      <td>2292412.79</td>\n",
       "    </tr>\n",
       "    <tr>\n",
       "      <th>2016-04-12</th>\n",
       "      <td>3031.30</td>\n",
       "      <td>3036.82</td>\n",
       "      <td>3023.65</td>\n",
       "      <td>3001.32</td>\n",
       "      <td>1827186.62</td>\n",
       "      <td>-10.31</td>\n",
       "      <td>-0.34</td>\n",
       "      <td>3020.316</td>\n",
       "      <td>3008.857</td>\n",
       "      <td>2980.485</td>\n",
       "      <td>2087646.35</td>\n",
       "      <td>2120849.64</td>\n",
       "      <td>2219104.49</td>\n",
       "    </tr>\n",
       "    <tr>\n",
       "      <th>2016-04-11</th>\n",
       "      <td>3006.91</td>\n",
       "      <td>3048.98</td>\n",
       "      <td>3033.96</td>\n",
       "      <td>3006.91</td>\n",
       "      <td>2200183.25</td>\n",
       "      <td>49.00</td>\n",
       "      <td>1.64</td>\n",
       "      <td>3026.200</td>\n",
       "      <td>3002.274</td>\n",
       "      <td>2972.277</td>\n",
       "      <td>2235669.73</td>\n",
       "      <td>2140152.21</td>\n",
       "      <td>2225153.17</td>\n",
       "    </tr>\n",
       "  </tbody>\n",
       "</table>\n",
       "</div>"
      ],
      "text/plain": [
       "               open     high    close      low      volume  price_change  \\\n",
       "date                                                                       \n",
       "2016-04-15  3085.03  3089.95  3078.12  3066.87  1896130.50         -4.24   \n",
       "2016-04-14  3080.09  3086.70  3082.36  3056.99  2082378.25         15.72   \n",
       "2016-04-13  3041.36  3097.16  3066.64  3041.36  3100032.50         42.99   \n",
       "2016-04-12  3031.30  3036.82  3023.65  3001.32  1827186.62        -10.31   \n",
       "2016-04-11  3006.91  3048.98  3033.96  3006.91  2200183.25         49.00   \n",
       "\n",
       "            p_change       ma5      ma10      ma20       v_ma5      v_ma10  \\\n",
       "date                                                                         \n",
       "2016-04-15     -0.14  3056.946  3039.130  3009.859  2221182.22  2214953.51   \n",
       "2016-04-14      0.51  3038.314  3031.710  3001.195  2217765.40  2245753.91   \n",
       "2016-04-13      1.42  3023.526  3023.538  2990.598  2243128.75  2247887.54   \n",
       "2016-04-12     -0.34  3020.316  3008.857  2980.485  2087646.35  2120849.64   \n",
       "2016-04-11      1.64  3026.200  3002.274  2972.277  2235669.73  2140152.21   \n",
       "\n",
       "                v_ma20  \n",
       "date                    \n",
       "2016-04-15  2297946.85  \n",
       "2016-04-14  2303285.43  \n",
       "2016-04-13  2292412.79  \n",
       "2016-04-12  2219104.49  \n",
       "2016-04-11  2225153.17  "
      ]
     },
     "execution_count": 15,
     "metadata": {},
     "output_type": "execute_result"
    }
   ],
   "source": [
    "dp=ts.get_hist_data(code1)\n",
    "dp[:5]"
   ]
  },
  {
   "cell_type": "markdown",
   "metadata": {},
   "source": [
    "### 获得涨幅数据列，并绘制涨幅分布图"
   ]
  },
  {
   "cell_type": "code",
   "execution_count": 16,
   "metadata": {
    "collapsed": false
   },
   "outputs": [
    {
     "name": "stdout",
     "output_type": "stream",
     "text": [
      "最小值： -8.49\n",
      "最大值： 5.76\n",
      "平均值： 0.0627260273973\n",
      "标准差： 1.7978145837\n"
     ]
    },
    {
     "data": {
      "image/png": "[encoded data removed]",
      "text/plain": [
       "<matplotlib.figure.Figure at 0xb7f5518>"
      ]
     },
     "metadata": {},
     "output_type": "display_data"
    }
   ],
   "source": [
    "pc=dp.p_change\n",
    "pxt=np.arange(-12,12,1)\n",
    "pxl=[-12,12]\n",
    "pc.plot(kind='kde',grid=True,figsize=(16,9),xticks=pxt,xlim=pxl)\n",
    "print '最小值：',pc.min()\n",
    "print '最大值：',pc.max()\n",
    "print '平均值：',pc.mean()\n",
    "print '标准差：',pc.std()"
   ]
  },
  {
   "cell_type": "markdown",
   "metadata": {},
   "source": [
    "-  \n",
    "\n",
    "-  "
   ]
  },
  {
   "cell_type": "markdown",
   "metadata": {},
   "source": [
    "### 近20日的涨幅数据及分布图"
   ]
  },
  {
   "cell_type": "code",
   "execution_count": 17,
   "metadata": {
    "collapsed": false
   },
   "outputs": [
    {
     "name": "stdout",
     "output_type": "stream",
     "text": [
      "最小值： -1.63\n",
      "最大值： 2.77\n",
      "平均值： 0.2975\n",
      "标准差： 1.23585842742\n"
     ]
    },
    {
     "data": {
      "image/png": "[encoded data removed]",
      "text/plain": [
       "<matplotlib.figure.Figure at 0x1e833940>"
      ]
     },
     "metadata": {},
     "output_type": "display_data"
    }
   ],
   "source": [
    "pc20=dp[:20].p_change\n",
    "pc.plot(kind='kde',grid=True,figsize=(16,9),xticks=pxt,xlim=pxl)\n",
    "pc20.plot(kind='kde',grid=True,figsize=(16,9),xticks=pxt,xlim=pxl)\n",
    "print '最小值：',pc20.min()\n",
    "print '最大值：',pc20.max()\n",
    "print '平均值：',pc20.mean()\n",
    "print '标准差：',pc20.std()"
   ]
  },
  {
   "cell_type": "markdown",
   "metadata": {},
   "source": [
    "- 根据月内数据与三年数据的比较，判断近期行情的重心"
   ]
  },
  {
   "cell_type": "markdown",
   "metadata": {},
   "source": [
    "### 分析三年数据的收盘价分布情况"
   ]
  },
  {
   "cell_type": "code",
   "execution_count": 24,
   "metadata": {
    "collapsed": false
   },
   "outputs": [
    {
     "name": "stdout",
     "output_type": "stream",
     "text": [
      "最小值： 1950.013\n",
      "最大值： 5166.35\n",
      "平均值： 2777.46255753\n",
      "标准差： 786.56589514\n"
     ]
    },
    {
     "data": {
      "image/png": "[encoded data removed]",
      "text/plain": [
       "<matplotlib.figure.Figure at 0x1e84ff60>"
      ]
     },
     "metadata": {},
     "output_type": "display_data"
    }
   ],
   "source": [
    "close=dp.close\n",
    "cxt=np.arange(600,6000,200)\n",
    "cxl=[600,6000]\n",
    "close.plot(kind='kde',grid=True,figsize=(16,9),xticks=cxt,xlim=cxl)\n",
    "print '最小值：',close.min()\n",
    "print '最大值：',close.max()\n",
    "print '平均值：',close.mean()\n",
    "print '标准差：',close.std()"
   ]
  },
  {
   "cell_type": "markdown",
   "metadata": {},
   "source": [
    "- 此图基本反应了 \n",
    "\n",
    " - \n",
    "\n",
    " -  "
   ]
  },
  {
   "cell_type": "markdown",
   "metadata": {},
   "source": [
    "近20日收盘价分布情况对比"
   ]
  },
  {
   "cell_type": "code",
   "execution_count": 19,
   "metadata": {
    "collapsed": false
   },
   "outputs": [
    {
     "name": "stdout",
     "output_type": "stream",
     "text": [
      "最小值： 2919.83\n",
      "最大值： 3082.36\n",
      "平均值： 3009.859\n",
      "标准差： 43.2205414004\n"
     ]
    },
    {
     "data": {
      "image/png": "[encoded data removed]",
      "text/plain": [
       "<matplotlib.figure.Figure at 0x1b7948d0>"
      ]
     },
     "metadata": {},
     "output_type": "display_data"
    }
   ],
   "source": [
    "close20=dp[:20].close\n",
    "close.plot(kind='kde',grid=True,figsize=(16,9),xticks=cxt,xlim=cxl)\n",
    "close20.plot(kind='kde',grid=True,figsize=(16,9),xticks=cxt,xlim=cxl)\n",
    "print '最小值：',close20.min()\n",
    "print '最大值：',close20.max()\n",
    "print '平均值：',close20.mean()\n",
    "print '标准差：',close20.std()"
   ]
  },
  {
   "cell_type": "markdown",
   "metadata": {},
   "source": [
    "近20日的收盘价数据与三年数据的对比，判断目前价格位置"
   ]
  },
  {
   "cell_type": "markdown",
   "metadata": {
    "collapsed": true
   },
   "source": [
    "### 对全部数据的收盘价分析"
   ]
  },
  {
   "cell_type": "markdown",
   "metadata": {},
   "source": [
    "#### 获取全部数据（从2000年1月1日起）"
   ]
  },
  {
   "cell_type": "code",
   "execution_count": 21,
   "metadata": {
    "collapsed": false
   },
   "outputs": [
    {
     "name": "stdout",
     "output_type": "stream",
     "text": [
      "[Getting data:]#################################################################"
     ]
    },
    {
     "data": {
      "text/html": [
       "<div>\n",
       "<table border=\"1\" class=\"dataframe\">\n",
       "  <thead>\n",
       "    <tr style=\"text-align: right;\">\n",
       "      <th></th>\n",
       "      <th>open</th>\n",
       "      <th>high</th>\n",
       "      <th>close</th>\n",
       "      <th>low</th>\n",
       "      <th>volume</th>\n",
       "      <th>amount</th>\n",
       "    </tr>\n",
       "    <tr>\n",
       "      <th>date</th>\n",
       "      <th></th>\n",
       "      <th></th>\n",
       "      <th></th>\n",
       "      <th></th>\n",
       "      <th></th>\n",
       "      <th></th>\n",
       "    </tr>\n",
       "  </thead>\n",
       "  <tbody>\n",
       "    <tr>\n",
       "      <th>2016-04-15</th>\n",
       "      <td>3085.026</td>\n",
       "      <td>3089.951</td>\n",
       "      <td>3078.117</td>\n",
       "      <td>3066.872</td>\n",
       "      <td>18961305100</td>\n",
       "      <td>224141313373</td>\n",
       "    </tr>\n",
       "    <tr>\n",
       "      <th>2016-04-14</th>\n",
       "      <td>3080.090</td>\n",
       "      <td>3086.698</td>\n",
       "      <td>3082.362</td>\n",
       "      <td>3056.989</td>\n",
       "      <td>20823783000</td>\n",
       "      <td>235056056274</td>\n",
       "    </tr>\n",
       "    <tr>\n",
       "      <th>2016-04-13</th>\n",
       "      <td>3041.358</td>\n",
       "      <td>3097.165</td>\n",
       "      <td>3066.638</td>\n",
       "      <td>3041.358</td>\n",
       "      <td>31000324600</td>\n",
       "      <td>331420683224</td>\n",
       "    </tr>\n",
       "    <tr>\n",
       "      <th>2016-04-12</th>\n",
       "      <td>3031.301</td>\n",
       "      <td>3036.825</td>\n",
       "      <td>3023.646</td>\n",
       "      <td>3001.315</td>\n",
       "      <td>18271866800</td>\n",
       "      <td>207079807862</td>\n",
       "    </tr>\n",
       "    <tr>\n",
       "      <th>2016-04-11</th>\n",
       "      <td>3006.909</td>\n",
       "      <td>3048.977</td>\n",
       "      <td>3033.957</td>\n",
       "      <td>3006.909</td>\n",
       "      <td>22001832400</td>\n",
       "      <td>252328393482</td>\n",
       "    </tr>\n",
       "  </tbody>\n",
       "</table>\n",
       "</div>"
      ],
      "text/plain": [
       "                open      high     close       low       volume        amount\n",
       "date                                                                         \n",
       "2016-04-15  3085.026  3089.951  3078.117  3066.872  18961305100  224141313373\n",
       "2016-04-14  3080.090  3086.698  3082.362  3056.989  20823783000  235056056274\n",
       "2016-04-13  3041.358  3097.165  3066.638  3041.358  31000324600  331420683224\n",
       "2016-04-12  3031.301  3036.825  3023.646  3001.315  18271866800  207079807862\n",
       "2016-04-11  3006.909  3048.977  3033.957  3006.909  22001832400  252328393482"
      ]
     },
     "execution_count": 21,
     "metadata": {},
     "output_type": "execute_result"
    }
   ],
   "source": [
    "df=ts.get_h_data(code2,start='2000-01-01',index=1) \n",
    "df[:5]"
   ]
  },
  {
   "cell_type": "markdown",
   "metadata": {},
   "source": [
    "简单分析"
   ]
  },
  {
   "cell_type": "code",
   "execution_count": 22,
   "metadata": {
    "collapsed": false
   },
   "outputs": [
    {
     "data": {
      "text/html": [
       "<div>\n",
       "<table border=\"1\" class=\"dataframe\">\n",
       "  <thead>\n",
       "    <tr style=\"text-align: right;\">\n",
       "      <th></th>\n",
       "      <th>open</th>\n",
       "      <th>high</th>\n",
       "      <th>close</th>\n",
       "      <th>low</th>\n",
       "      <th>volume</th>\n",
       "      <th>amount</th>\n",
       "    </tr>\n",
       "  </thead>\n",
       "  <tbody>\n",
       "    <tr>\n",
       "      <th>count</th>\n",
       "      <td>3940.000000</td>\n",
       "      <td>3940.000000</td>\n",
       "      <td>3940.000000</td>\n",
       "      <td>3940.000000</td>\n",
       "      <td>3.940000e+03</td>\n",
       "      <td>3.940000e+03</td>\n",
       "    </tr>\n",
       "    <tr>\n",
       "      <th>mean</th>\n",
       "      <td>2327.436616</td>\n",
       "      <td>2350.633138</td>\n",
       "      <td>2329.386344</td>\n",
       "      <td>2302.487715</td>\n",
       "      <td>8.953960e+09</td>\n",
       "      <td>9.652823e+10</td>\n",
       "    </tr>\n",
       "    <tr>\n",
       "      <th>std</th>\n",
       "      <td>926.098928</td>\n",
       "      <td>940.142237</td>\n",
       "      <td>927.042352</td>\n",
       "      <td>909.040942</td>\n",
       "      <td>1.138364e+10</td>\n",
       "      <td>1.466821e+11</td>\n",
       "    </tr>\n",
       "    <tr>\n",
       "      <th>min</th>\n",
       "      <td>1007.901000</td>\n",
       "      <td>1019.922000</td>\n",
       "      <td>1011.499000</td>\n",
       "      <td>998.228000</td>\n",
       "      <td>2.497117e+08</td>\n",
       "      <td>2.659838e+09</td>\n",
       "    </tr>\n",
       "    <tr>\n",
       "      <th>25%</th>\n",
       "      <td>1636.636750</td>\n",
       "      <td>1650.014500</td>\n",
       "      <td>1635.417250</td>\n",
       "      <td>1619.684000</td>\n",
       "      <td>1.395043e+09</td>\n",
       "      <td>1.083111e+10</td>\n",
       "    </tr>\n",
       "    <tr>\n",
       "      <th>50%</th>\n",
       "      <td>2127.039500</td>\n",
       "      <td>2138.344500</td>\n",
       "      <td>2127.195000</td>\n",
       "      <td>2109.178000</td>\n",
       "      <td>6.064934e+09</td>\n",
       "      <td>5.782025e+10</td>\n",
       "    </tr>\n",
       "    <tr>\n",
       "      <th>75%</th>\n",
       "      <td>2831.056000</td>\n",
       "      <td>2864.322500</td>\n",
       "      <td>2835.600500</td>\n",
       "      <td>2791.818500</td>\n",
       "      <td>1.135084e+10</td>\n",
       "      <td>1.169853e+11</td>\n",
       "    </tr>\n",
       "    <tr>\n",
       "      <th>max</th>\n",
       "      <td>6057.428000</td>\n",
       "      <td>6124.044000</td>\n",
       "      <td>6092.057000</td>\n",
       "      <td>6040.713000</td>\n",
       "      <td>8.571328e+10</td>\n",
       "      <td>1.309925e+12</td>\n",
       "    </tr>\n",
       "  </tbody>\n",
       "</table>\n",
       "</div>"
      ],
      "text/plain": [
       "              open         high        close          low        volume  \\\n",
       "count  3940.000000  3940.000000  3940.000000  3940.000000  3.940000e+03   \n",
       "mean   2327.436616  2350.633138  2329.386344  2302.487715  8.953960e+09   \n",
       "std     926.098928   940.142237   927.042352   909.040942  1.138364e+10   \n",
       "min    1007.901000  1019.922000  1011.499000   998.228000  2.497117e+08   \n",
       "25%    1636.636750  1650.014500  1635.417250  1619.684000  1.395043e+09   \n",
       "50%    2127.039500  2138.344500  2127.195000  2109.178000  6.064934e+09   \n",
       "75%    2831.056000  2864.322500  2835.600500  2791.818500  1.135084e+10   \n",
       "max    6057.428000  6124.044000  6092.057000  6040.713000  8.571328e+10   \n",
       "\n",
       "             amount  \n",
       "count  3.940000e+03  \n",
       "mean   9.652823e+10  \n",
       "std    1.466821e+11  \n",
       "min    2.659838e+09  \n",
       "25%    1.083111e+10  \n",
       "50%    5.782025e+10  \n",
       "75%    1.169853e+11  \n",
       "max    1.309925e+12  "
      ]
     },
     "execution_count": 22,
     "metadata": {},
     "output_type": "execute_result"
    }
   ],
   "source": [
    "df.describe()"
   ]
  },
  {
   "cell_type": "markdown",
   "metadata": {},
   "source": [
    "收盘价分析"
   ]
  },
  {
   "cell_type": "code",
   "execution_count": 28,
   "metadata": {
    "collapsed": false
   },
   "outputs": [
    {
     "name": "stdout",
     "output_type": "stream",
     "text": [
      "最小值： 1011.499\n",
      "最大值： 6092.057\n",
      "平均值： 2329.38634416\n",
      "标准差： 927.042351624\n"
     ]
    },
    {
     "data": {
      "image/png": "[encoded data removed]",
      "text/plain": [
       "<matplotlib.figure.Figure at 0x1bdf4080>"
      ]
     },
     "metadata": {},
     "output_type": "display_data"
    }
   ],
   "source": [
    "closeall=df.close\n",
    "nxt=np.arange(500,7000,200)\n",
    "nxl=[500,7000]\n",
    "closeall.plot(kind='kde',grid=True,figsize=(16,9),xticks=nxt,xlim=nxl)\n",
    "print '最小值：',closeall.min()\n",
    "print '最大值：',closeall.max()\n",
    "print '平均值：',closeall.mean()\n",
    "print '标准差：',closeall.std()"
   ]
  },
  {
   "cell_type": "markdown",
   "metadata": {},
   "source": [
    "- 除权数据的分析中，价格范围相比三年数据扩大不多。特点为：\n",
    "\n",
    " -  \n",
    " \n",
    " -  \n",
    " \n",
    "  -  "
   ]
  },
  {
   "cell_type": "markdown",
   "metadata": {},
   "source": [
    "与20日收盘价对比"
   ]
  },
  {
   "cell_type": "code",
   "execution_count": 29,
   "metadata": {
    "collapsed": false
   },
   "outputs": [
    {
     "data": {
      "text/plain": [
       "<matplotlib.axes._subplots.AxesSubplot at 0x1ef59828>"
      ]
     },
     "execution_count": 29,
     "metadata": {},
     "output_type": "execute_result"
    },
    {
     "data": {
      "image/png": "[encoded data removed]",
      "text/plain": [
       "<matplotlib.figure.Figure at 0x1b797f98>"
      ]
     },
     "metadata": {},
     "output_type": "display_data"
    }
   ],
   "source": [
    "closeall20=df[:20].close\n",
    "closeall.plot(kind='kde',grid=True,figsize=(16,9))\n",
    "closeall20.plot(kind='kde',grid=True,figsize=(16,9),xticks=nxt,xlim=nxl)"
   ]
  },
  {
   "cell_type": "markdown",
   "metadata": {},
   "source": [
    "*三个月多阶段对比*"
   ]
  },
  {
   "cell_type": "code",
   "execution_count": 30,
   "metadata": {
    "collapsed": false
   },
   "outputs": [
    {
     "data": {
      "text/plain": [
       "<matplotlib.axes._subplots.AxesSubplot at 0x1ba55630>"
      ]
     },
     "execution_count": 30,
     "metadata": {},
     "output_type": "execute_result"
    },
    {
     "data": {
      "image/png": "[encoded data removed]",
      "text/plain": [
       "<matplotlib.figure.Figure at 0x1b6ef748>"
      ]
     },
     "metadata": {},
     "output_type": "display_data"
    }
   ],
   "source": [
    "closeall40=df[20:40].close\n",
    "closeall60=df[40:60].close\n",
    "closeall.plot(kind='kde',grid=True,figsize=(16,9))\n",
    "closeall20.plot(kind='kde',grid=True,figsize=(16,9))\n",
    "closeall40.plot(kind='kde',grid=True,figsize=(16,9))\n",
    "closeall60.plot(kind='kde',grid=True,figsize=(16,9),xticks=nxt,xlim=nxl)"
   ]
  },
  {
   "cell_type": "code",
   "execution_count": 31,
   "metadata": {
    "collapsed": false
   },
   "outputs": [
    {
     "data": {
      "text/plain": [
       "count      20.000000\n",
       "mean     3009.858800\n",
       "std        43.219668\n",
       "min      2919.832000\n",
       "25%      2983.577000\n",
       "50%      3008.975000\n",
       "75%      3038.115750\n",
       "max      3082.362000\n",
       "Name: close, dtype: float64"
      ]
     },
     "execution_count": 31,
     "metadata": {},
     "output_type": "execute_result"
    }
   ],
   "source": [
    "closeall20.describe()"
   ]
  },
  {
   "cell_type": "code",
   "execution_count": 32,
   "metadata": {
    "collapsed": false
   },
   "outputs": [
    {
     "data": {
      "text/plain": [
       "count      20.00000\n",
       "mean     2845.40290\n",
       "std        67.41389\n",
       "min      2687.97900\n",
       "25%      2808.91175\n",
       "50%      2861.28850\n",
       "75%      2898.35175\n",
       "max      2928.89600\n",
       "Name: close, dtype: float64"
      ]
     },
     "execution_count": 32,
     "metadata": {},
     "output_type": "execute_result"
    }
   ],
   "source": [
    "closeall40.describe()"
   ]
  },
  {
   "cell_type": "code",
   "execution_count": 33,
   "metadata": {
    "collapsed": false
   },
   "outputs": [
    {
     "data": {
      "text/plain": [
       "count      20.000000\n",
       "mean     2822.429350\n",
       "std       100.295244\n",
       "min      2655.661000\n",
       "25%      2744.458750\n",
       "50%      2808.797000\n",
       "75%      2904.186750\n",
       "max      3007.739000\n",
       "Name: close, dtype: float64"
      ]
     },
     "execution_count": 33,
     "metadata": {},
     "output_type": "execute_result"
    }
   ],
   "source": [
    "closeall60.describe()"
   ]
  },
  {
   "cell_type": "markdown",
   "metadata": {
    "collapsed": true
   },
   "source": [
    "### 三年数据和全部数据的基本统计对比"
   ]
  },
  {
   "cell_type": "markdown",
   "metadata": {},
   "source": [
    "- 三年数据："
   ]
  },
  {
   "cell_type": "code",
   "execution_count": 34,
   "metadata": {
    "collapsed": false
   },
   "outputs": [
    {
     "data": {
      "text/html": [
       "<div>\n",
       "<table border=\"1\" class=\"dataframe\">\n",
       "  <thead>\n",
       "    <tr style=\"text-align: right;\">\n",
       "      <th></th>\n",
       "      <th>open</th>\n",
       "      <th>high</th>\n",
       "      <th>close</th>\n",
       "      <th>low</th>\n",
       "      <th>volume</th>\n",
       "      <th>price_change</th>\n",
       "      <th>p_change</th>\n",
       "      <th>ma5</th>\n",
       "      <th>ma10</th>\n",
       "      <th>ma20</th>\n",
       "      <th>v_ma5</th>\n",
       "      <th>v_ma10</th>\n",
       "      <th>v_ma20</th>\n",
       "    </tr>\n",
       "  </thead>\n",
       "  <tbody>\n",
       "    <tr>\n",
       "      <th>count</th>\n",
       "      <td>730.000000</td>\n",
       "      <td>730.000000</td>\n",
       "      <td>730.000000</td>\n",
       "      <td>730.000000</td>\n",
       "      <td>7.300000e+02</td>\n",
       "      <td>730.000000</td>\n",
       "      <td>730.000000</td>\n",
       "      <td>730.000000</td>\n",
       "      <td>730.000000</td>\n",
       "      <td>730.000000</td>\n",
       "      <td>7.300000e+02</td>\n",
       "      <td>7.300000e+02</td>\n",
       "      <td>7.300000e+02</td>\n",
       "    </tr>\n",
       "    <tr>\n",
       "      <th>mean</th>\n",
       "      <td>2772.383953</td>\n",
       "      <td>2804.106675</td>\n",
       "      <td>2777.462558</td>\n",
       "      <td>2741.592184</td>\n",
       "      <td>2.424732e+06</td>\n",
       "      <td>1.209259</td>\n",
       "      <td>0.062726</td>\n",
       "      <td>2775.076079</td>\n",
       "      <td>2772.259974</td>\n",
       "      <td>2766.802527</td>\n",
       "      <td>2.420759e+06</td>\n",
       "      <td>2.416141e+06</td>\n",
       "      <td>2.407155e+06</td>\n",
       "    </tr>\n",
       "    <tr>\n",
       "      <th>std</th>\n",
       "      <td>785.139201</td>\n",
       "      <td>803.098915</td>\n",
       "      <td>786.565895</td>\n",
       "      <td>762.650804</td>\n",
       "      <td>1.745388e+06</td>\n",
       "      <td>62.116368</td>\n",
       "      <td>1.797815</td>\n",
       "      <td>784.901057</td>\n",
       "      <td>782.951559</td>\n",
       "      <td>778.545348</td>\n",
       "      <td>1.699502e+06</td>\n",
       "      <td>1.675838e+06</td>\n",
       "      <td>1.648553e+06</td>\n",
       "    </tr>\n",
       "    <tr>\n",
       "      <th>min</th>\n",
       "      <td>1935.516000</td>\n",
       "      <td>1959.158000</td>\n",
       "      <td>1950.013000</td>\n",
       "      <td>1849.653000</td>\n",
       "      <td>5.627125e+05</td>\n",
       "      <td>-345.350000</td>\n",
       "      <td>-8.490000</td>\n",
       "      <td>1960.691000</td>\n",
       "      <td>1980.786000</td>\n",
       "      <td>2002.162000</td>\n",
       "      <td>6.472277e+05</td>\n",
       "      <td>6.787720e+05</td>\n",
       "      <td>6.831418e+05</td>\n",
       "    </tr>\n",
       "    <tr>\n",
       "      <th>25%</th>\n",
       "      <td>2103.431250</td>\n",
       "      <td>2114.841250</td>\n",
       "      <td>2104.018750</td>\n",
       "      <td>2093.081500</td>\n",
       "      <td>1.045133e+06</td>\n",
       "      <td>-16.153500</td>\n",
       "      <td>-0.620000</td>\n",
       "      <td>2104.130250</td>\n",
       "      <td>2101.001000</td>\n",
       "      <td>2096.284750</td>\n",
       "      <td>1.065429e+06</td>\n",
       "      <td>1.064159e+06</td>\n",
       "      <td>1.041005e+06</td>\n",
       "    </tr>\n",
       "    <tr>\n",
       "      <th>50%</th>\n",
       "      <td>2359.681500</td>\n",
       "      <td>2370.835000</td>\n",
       "      <td>2361.672500</td>\n",
       "      <td>2345.476000</td>\n",
       "      <td>1.831604e+06</td>\n",
       "      <td>2.937500</td>\n",
       "      <td>0.120000</td>\n",
       "      <td>2358.439000</td>\n",
       "      <td>2350.050000</td>\n",
       "      <td>2345.910000</td>\n",
       "      <td>1.878706e+06</td>\n",
       "      <td>1.906168e+06</td>\n",
       "      <td>1.894522e+06</td>\n",
       "    </tr>\n",
       "    <tr>\n",
       "      <th>75%</th>\n",
       "      <td>3295.695750</td>\n",
       "      <td>3344.277500</td>\n",
       "      <td>3309.161750</td>\n",
       "      <td>3274.698500</td>\n",
       "      <td>3.275705e+06</td>\n",
       "      <td>22.562750</td>\n",
       "      <td>0.880000</td>\n",
       "      <td>3296.950000</td>\n",
       "      <td>3291.161250</td>\n",
       "      <td>3290.606750</td>\n",
       "      <td>3.244233e+06</td>\n",
       "      <td>3.303041e+06</td>\n",
       "      <td>3.347520e+06</td>\n",
       "    </tr>\n",
       "    <tr>\n",
       "      <th>max</th>\n",
       "      <td>5174.418000</td>\n",
       "      <td>5178.191000</td>\n",
       "      <td>5166.350000</td>\n",
       "      <td>5103.401000</td>\n",
       "      <td>8.571328e+06</td>\n",
       "      <td>224.190000</td>\n",
       "      <td>5.760000</td>\n",
       "      <td>5127.879000</td>\n",
       "      <td>5052.792000</td>\n",
       "      <td>4925.927000</td>\n",
       "      <td>7.287152e+06</td>\n",
       "      <td>6.936106e+06</td>\n",
       "      <td>6.499393e+06</td>\n",
       "    </tr>\n",
       "  </tbody>\n",
       "</table>\n",
       "</div>"
      ],
      "text/plain": [
       "              open         high        close          low        volume  \\\n",
       "count   730.000000   730.000000   730.000000   730.000000  7.300000e+02   \n",
       "mean   2772.383953  2804.106675  2777.462558  2741.592184  2.424732e+06   \n",
       "std     785.139201   803.098915   786.565895   762.650804  1.745388e+06   \n",
       "min    1935.516000  1959.158000  1950.013000  1849.653000  5.627125e+05   \n",
       "25%    2103.431250  2114.841250  2104.018750  2093.081500  1.045133e+06   \n",
       "50%    2359.681500  2370.835000  2361.672500  2345.476000  1.831604e+06   \n",
       "75%    3295.695750  3344.277500  3309.161750  3274.698500  3.275705e+06   \n",
       "max    5174.418000  5178.191000  5166.350000  5103.401000  8.571328e+06   \n",
       "\n",
       "       price_change    p_change          ma5         ma10         ma20  \\\n",
       "count    730.000000  730.000000   730.000000   730.000000   730.000000   \n",
       "mean       1.209259    0.062726  2775.076079  2772.259974  2766.802527   \n",
       "std       62.116368    1.797815   784.901057   782.951559   778.545348   \n",
       "min     -345.350000   -8.490000  1960.691000  1980.786000  2002.162000   \n",
       "25%      -16.153500   -0.620000  2104.130250  2101.001000  2096.284750   \n",
       "50%        2.937500    0.120000  2358.439000  2350.050000  2345.910000   \n",
       "75%       22.562750    0.880000  3296.950000  3291.161250  3290.606750   \n",
       "max      224.190000    5.760000  5127.879000  5052.792000  4925.927000   \n",
       "\n",
       "              v_ma5        v_ma10        v_ma20  \n",
       "count  7.300000e+02  7.300000e+02  7.300000e+02  \n",
       "mean   2.420759e+06  2.416141e+06  2.407155e+06  \n",
       "std    1.699502e+06  1.675838e+06  1.648553e+06  \n",
       "min    6.472277e+05  6.787720e+05  6.831418e+05  \n",
       "25%    1.065429e+06  1.064159e+06  1.041005e+06  \n",
       "50%    1.878706e+06  1.906168e+06  1.894522e+06  \n",
       "75%    3.244233e+06  3.303041e+06  3.347520e+06  \n",
       "max    7.287152e+06  6.936106e+06  6.499393e+06  "
      ]
     },
     "execution_count": 34,
     "metadata": {},
     "output_type": "execute_result"
    }
   ],
   "source": [
    "dp.describe()"
   ]
  },
  {
   "cell_type": "markdown",
   "metadata": {},
   "source": [
    "- 全部前复权数据："
   ]
  },
  {
   "cell_type": "code",
   "execution_count": 35,
   "metadata": {
    "collapsed": false
   },
   "outputs": [
    {
     "data": {
      "text/html": [
       "<div>\n",
       "<table border=\"1\" class=\"dataframe\">\n",
       "  <thead>\n",
       "    <tr style=\"text-align: right;\">\n",
       "      <th></th>\n",
       "      <th>open</th>\n",
       "      <th>high</th>\n",
       "      <th>close</th>\n",
       "      <th>low</th>\n",
       "      <th>volume</th>\n",
       "      <th>amount</th>\n",
       "    </tr>\n",
       "  </thead>\n",
       "  <tbody>\n",
       "    <tr>\n",
       "      <th>count</th>\n",
       "      <td>3940.000000</td>\n",
       "      <td>3940.000000</td>\n",
       "      <td>3940.000000</td>\n",
       "      <td>3940.000000</td>\n",
       "      <td>3.940000e+03</td>\n",
       "      <td>3.940000e+03</td>\n",
       "    </tr>\n",
       "    <tr>\n",
       "      <th>mean</th>\n",
       "      <td>2327.436616</td>\n",
       "      <td>2350.633138</td>\n",
       "      <td>2329.386344</td>\n",
       "      <td>2302.487715</td>\n",
       "      <td>8.953960e+09</td>\n",
       "      <td>9.652823e+10</td>\n",
       "    </tr>\n",
       "    <tr>\n",
       "      <th>std</th>\n",
       "      <td>926.098928</td>\n",
       "      <td>940.142237</td>\n",
       "      <td>927.042352</td>\n",
       "      <td>909.040942</td>\n",
       "      <td>1.138364e+10</td>\n",
       "      <td>1.466821e+11</td>\n",
       "    </tr>\n",
       "    <tr>\n",
       "      <th>min</th>\n",
       "      <td>1007.901000</td>\n",
       "      <td>1019.922000</td>\n",
       "      <td>1011.499000</td>\n",
       "      <td>998.228000</td>\n",
       "      <td>2.497117e+08</td>\n",
       "      <td>2.659838e+09</td>\n",
       "    </tr>\n",
       "    <tr>\n",
       "      <th>25%</th>\n",
       "      <td>1636.636750</td>\n",
       "      <td>1650.014500</td>\n",
       "      <td>1635.417250</td>\n",
       "      <td>1619.684000</td>\n",
       "      <td>1.395043e+09</td>\n",
       "      <td>1.083111e+10</td>\n",
       "    </tr>\n",
       "    <tr>\n",
       "      <th>50%</th>\n",
       "      <td>2127.039500</td>\n",
       "      <td>2138.344500</td>\n",
       "      <td>2127.195000</td>\n",
       "      <td>2109.178000</td>\n",
       "      <td>6.064934e+09</td>\n",
       "      <td>5.782025e+10</td>\n",
       "    </tr>\n",
       "    <tr>\n",
       "      <th>75%</th>\n",
       "      <td>2831.056000</td>\n",
       "      <td>2864.322500</td>\n",
       "      <td>2835.600500</td>\n",
       "      <td>2791.818500</td>\n",
       "      <td>1.135084e+10</td>\n",
       "      <td>1.169853e+11</td>\n",
       "    </tr>\n",
       "    <tr>\n",
       "      <th>max</th>\n",
       "      <td>6057.428000</td>\n",
       "      <td>6124.044000</td>\n",
       "      <td>6092.057000</td>\n",
       "      <td>6040.713000</td>\n",
       "      <td>8.571328e+10</td>\n",
       "      <td>1.309925e+12</td>\n",
       "    </tr>\n",
       "  </tbody>\n",
       "</table>\n",
       "</div>"
      ],
      "text/plain": [
       "              open         high        close          low        volume  \\\n",
       "count  3940.000000  3940.000000  3940.000000  3940.000000  3.940000e+03   \n",
       "mean   2327.436616  2350.633138  2329.386344  2302.487715  8.953960e+09   \n",
       "std     926.098928   940.142237   927.042352   909.040942  1.138364e+10   \n",
       "min    1007.901000  1019.922000  1011.499000   998.228000  2.497117e+08   \n",
       "25%    1636.636750  1650.014500  1635.417250  1619.684000  1.395043e+09   \n",
       "50%    2127.039500  2138.344500  2127.195000  2109.178000  6.064934e+09   \n",
       "75%    2831.056000  2864.322500  2835.600500  2791.818500  1.135084e+10   \n",
       "max    6057.428000  6124.044000  6092.057000  6040.713000  8.571328e+10   \n",
       "\n",
       "             amount  \n",
       "count  3.940000e+03  \n",
       "mean   9.652823e+10  \n",
       "std    1.466821e+11  \n",
       "min    2.659838e+09  \n",
       "25%    1.083111e+10  \n",
       "50%    5.782025e+10  \n",
       "75%    1.169853e+11  \n",
       "max    1.309925e+12  "
      ]
     },
     "execution_count": 35,
     "metadata": {},
     "output_type": "execute_result"
    }
   ],
   "source": [
    "df.describe()"
   ]
  },
  {
   "cell_type": "markdown",
   "metadata": {},
   "source": []
  }
 ],
 "metadata": {
  "kernelspec": {
   "display_name": "Python 2",
   "language": "python",
   "name": "python2"
  },
  "language_info": {
   "codemirror_mode": {
    "name": "ipython",
    "version": 2
   },
   "file_extension": ".py",
   "mimetype": "text/x-python",
   "name": "python",
   "nbconvert_exporter": "python",
   "pygments_lexer": "ipython2",
   "version": "2.7.11"
  }
 },
 "nbformat": 4,
 "nbformat_minor": 0
}
