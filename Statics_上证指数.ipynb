{
 "cells": [
  {
   "cell_type": "markdown",
   "metadata": {},
   "source": [
    "# 基于上证指数行情数据的基本分布分析\n",
    "> v0.1\n",
    "> \n",
    "> 20160416\n",
    "> \n",
    "> 主要是涨幅和价格的分析"
   ]
  },
  {
   "cell_type": "markdown",
   "metadata": {},
   "source": [
    "导入模块"
   ]
  },
  {
   "cell_type": "code",
   "execution_count": 1,
   "metadata": {
    "collapsed": false
   },
   "outputs": [],
   "source": [
    "import tushare as ts\n",
    "import pylab\n",
    "import pandas as pd\n",
    "import numpy as np\n",
    "%matplotlib inline\n",
    "code1='sh'\n",
    "code2='000001'"
   ]
  },
  {
   "cell_type": "markdown",
   "metadata": {},
   "source": [
    "### 获得基础信息"
   ]
  },
  {
   "cell_type": "code",
   "execution_count": 2,
   "metadata": {
    "collapsed": false
   },
   "outputs": [
    {
     "data": {
      "text/html": [
       "<div>\n",
       "<table border=\"1\" class=\"dataframe\">\n",
       "  <thead>\n",
       "    <tr style=\"text-align: right;\">\n",
       "      <th></th>\n",
       "      <th>code</th>\n",
       "      <th>name</th>\n",
       "      <th>change</th>\n",
       "      <th>open</th>\n",
       "      <th>preclose</th>\n",
       "      <th>close</th>\n",
       "      <th>high</th>\n",
       "      <th>low</th>\n",
       "      <th>volume</th>\n",
       "      <th>amount</th>\n",
       "    </tr>\n",
       "  </thead>\n",
       "  <tbody>\n",
       "    <tr>\n",
       "      <th>0</th>\n",
       "      <td>000001</td>\n",
       "      <td>上证指数</td>\n",
       "      <td>-1.44</td>\n",
       "      <td>3058.4629</td>\n",
       "      <td>3078.1166</td>\n",
       "      <td>3033.6604</td>\n",
       "      <td>3058.4629</td>\n",
       "      <td>3022.9701</td>\n",
       "      <td>183304512</td>\n",
       "      <td>2086.1309</td>\n",
       "    </tr>\n",
       "    <tr>\n",
       "      <th>1</th>\n",
       "      <td>000002</td>\n",
       "      <td>Ａ股指数</td>\n",
       "      <td>-1.45</td>\n",
       "      <td>3200.7127</td>\n",
       "      <td>3221.3384</td>\n",
       "      <td>3174.7592</td>\n",
       "      <td>3200.7127</td>\n",
       "      <td>3163.5444</td>\n",
       "      <td>182805200</td>\n",
       "      <td>2082.3012</td>\n",
       "    </tr>\n",
       "    <tr>\n",
       "      <th>2</th>\n",
       "      <td>000003</td>\n",
       "      <td>Ｂ股指数</td>\n",
       "      <td>-1.05</td>\n",
       "      <td>380.1539</td>\n",
       "      <td>381.0027</td>\n",
       "      <td>376.9998</td>\n",
       "      <td>380.1539</td>\n",
       "      <td>376.0425</td>\n",
       "      <td>499312</td>\n",
       "      <td>3.8296</td>\n",
       "    </tr>\n",
       "    <tr>\n",
       "      <th>3</th>\n",
       "      <td>000008</td>\n",
       "      <td>综合指数</td>\n",
       "      <td>-1.08</td>\n",
       "      <td>2672.0616</td>\n",
       "      <td>2689.5274</td>\n",
       "      <td>2660.3965</td>\n",
       "      <td>2672.0808</td>\n",
       "      <td>2656.0173</td>\n",
       "      <td>46914387</td>\n",
       "      <td>547.6994</td>\n",
       "    </tr>\n",
       "    <tr>\n",
       "      <th>4</th>\n",
       "      <td>000009</td>\n",
       "      <td>上证380</td>\n",
       "      <td>-1.74</td>\n",
       "      <td>5566.4126</td>\n",
       "      <td>5603.6921</td>\n",
       "      <td>5506.2015</td>\n",
       "      <td>5566.4126</td>\n",
       "      <td>5473.2411</td>\n",
       "      <td>55255067</td>\n",
       "      <td>650.9533</td>\n",
       "    </tr>\n",
       "    <tr>\n",
       "      <th>5</th>\n",
       "      <td>000010</td>\n",
       "      <td>上证180</td>\n",
       "      <td>-1.33</td>\n",
       "      <td>6994.0475</td>\n",
       "      <td>7039.3256</td>\n",
       "      <td>6945.8334</td>\n",
       "      <td>6994.0475</td>\n",
       "      <td>6940.0207</td>\n",
       "      <td>68067285</td>\n",
       "      <td>691.6577</td>\n",
       "    </tr>\n",
       "    <tr>\n",
       "      <th>6</th>\n",
       "      <td>000011</td>\n",
       "      <td>基金指数</td>\n",
       "      <td>-0.39</td>\n",
       "      <td>5684.4811</td>\n",
       "      <td>5691.7921</td>\n",
       "      <td>5669.3338</td>\n",
       "      <td>5684.4811</td>\n",
       "      <td>5666.0849</td>\n",
       "      <td>12776877</td>\n",
       "      <td>326.7563</td>\n",
       "    </tr>\n",
       "    <tr>\n",
       "      <th>7</th>\n",
       "      <td>000012</td>\n",
       "      <td>国债指数</td>\n",
       "      <td>0.03</td>\n",
       "      <td>156.8008</td>\n",
       "      <td>156.7556</td>\n",
       "      <td>156.8044</td>\n",
       "      <td>156.8052</td>\n",
       "      <td>156.7246</td>\n",
       "      <td>194671</td>\n",
       "      <td>2.0627</td>\n",
       "    </tr>\n",
       "    <tr>\n",
       "      <th>8</th>\n",
       "      <td>000016</td>\n",
       "      <td>上证50</td>\n",
       "      <td>-1.09</td>\n",
       "      <td>2166.0031</td>\n",
       "      <td>2182.0667</td>\n",
       "      <td>2158.2302</td>\n",
       "      <td>2168.8968</td>\n",
       "      <td>2154.3812</td>\n",
       "      <td>24410918</td>\n",
       "      <td>258.0037</td>\n",
       "    </tr>\n",
       "    <tr>\n",
       "      <th>9</th>\n",
       "      <td>000017</td>\n",
       "      <td>新综指</td>\n",
       "      <td>-1.45</td>\n",
       "      <td>2581.0554</td>\n",
       "      <td>2597.6936</td>\n",
       "      <td>2560.0735</td>\n",
       "      <td>2581.0554</td>\n",
       "      <td>2551.0251</td>\n",
       "      <td>182656620</td>\n",
       "      <td>2080.7720</td>\n",
       "    </tr>\n",
       "    <tr>\n",
       "      <th>10</th>\n",
       "      <td>000300</td>\n",
       "      <td>沪深300</td>\n",
       "      <td>-1.34</td>\n",
       "      <td>3252.6706</td>\n",
       "      <td>3272.2053</td>\n",
       "      <td>3228.4531</td>\n",
       "      <td>3252.6706</td>\n",
       "      <td>3221.6623</td>\n",
       "      <td>97090069</td>\n",
       "      <td>1039.5615</td>\n",
       "    </tr>\n",
       "    <tr>\n",
       "      <th>11</th>\n",
       "      <td>399001</td>\n",
       "      <td>深证成指</td>\n",
       "      <td>-1.53</td>\n",
       "      <td>10665.4400</td>\n",
       "      <td>10733.6350</td>\n",
       "      <td>10568.9300</td>\n",
       "      <td>10665.4400</td>\n",
       "      <td>10508.9790</td>\n",
       "      <td>20878339302</td>\n",
       "      <td>3484.6824</td>\n",
       "    </tr>\n",
       "    <tr>\n",
       "      <th>12</th>\n",
       "      <td>399002</td>\n",
       "      <td>深成指R</td>\n",
       "      <td>-1.53</td>\n",
       "      <td>12470.2030</td>\n",
       "      <td>12549.2090</td>\n",
       "      <td>12357.3620</td>\n",
       "      <td>12470.2030</td>\n",
       "      <td>12287.2670</td>\n",
       "      <td>9748426757</td>\n",
       "      <td>1487.7426</td>\n",
       "    </tr>\n",
       "    <tr>\n",
       "      <th>13</th>\n",
       "      <td>399003</td>\n",
       "      <td>成份Ｂ指</td>\n",
       "      <td>-2.02</td>\n",
       "      <td>6494.7200</td>\n",
       "      <td>6494.3920</td>\n",
       "      <td>6363.5120</td>\n",
       "      <td>6494.7200</td>\n",
       "      <td>6336.9260</td>\n",
       "      <td>15097286</td>\n",
       "      <td>1.0626</td>\n",
       "    </tr>\n",
       "    <tr>\n",
       "      <th>14</th>\n",
       "      <td>399004</td>\n",
       "      <td>深证100R</td>\n",
       "      <td>-1.55</td>\n",
       "      <td>4492.6660</td>\n",
       "      <td>4517.9240</td>\n",
       "      <td>4448.0510</td>\n",
       "      <td>4492.6660</td>\n",
       "      <td>4428.5380</td>\n",
       "      <td>3120378013</td>\n",
       "      <td>407.1551</td>\n",
       "    </tr>\n",
       "    <tr>\n",
       "      <th>15</th>\n",
       "      <td>399005</td>\n",
       "      <td>中小板指</td>\n",
       "      <td>-1.91</td>\n",
       "      <td>6960.6350</td>\n",
       "      <td>7011.9190</td>\n",
       "      <td>6878.1790</td>\n",
       "      <td>6960.6350</td>\n",
       "      <td>6845.4540</td>\n",
       "      <td>1512112463</td>\n",
       "      <td>285.6013</td>\n",
       "    </tr>\n",
       "    <tr>\n",
       "      <th>16</th>\n",
       "      <td>399006</td>\n",
       "      <td>创业板指</td>\n",
       "      <td>-1.91</td>\n",
       "      <td>2288.4200</td>\n",
       "      <td>2309.6760</td>\n",
       "      <td>2265.5930</td>\n",
       "      <td>2288.4200</td>\n",
       "      <td>2249.3390</td>\n",
       "      <td>1430977206</td>\n",
       "      <td>351.8518</td>\n",
       "    </tr>\n",
       "    <tr>\n",
       "      <th>17</th>\n",
       "      <td>399100</td>\n",
       "      <td>新 指 数</td>\n",
       "      <td>-1.35</td>\n",
       "      <td>8548.0840</td>\n",
       "      <td>8602.4030</td>\n",
       "      <td>8486.6520</td>\n",
       "      <td>8548.0840</td>\n",
       "      <td>8427.2630</td>\n",
       "      <td>20614978454</td>\n",
       "      <td>3460.2602</td>\n",
       "    </tr>\n",
       "    <tr>\n",
       "      <th>18</th>\n",
       "      <td>399101</td>\n",
       "      <td>中小板综</td>\n",
       "      <td>-1.24</td>\n",
       "      <td>11508.2730</td>\n",
       "      <td>11583.6480</td>\n",
       "      <td>11439.8950</td>\n",
       "      <td>11508.2730</td>\n",
       "      <td>11353.7950</td>\n",
       "      <td>8760388564</td>\n",
       "      <td>1652.3311</td>\n",
       "    </tr>\n",
       "    <tr>\n",
       "      <th>19</th>\n",
       "      <td>399106</td>\n",
       "      <td>深证综指</td>\n",
       "      <td>-1.32</td>\n",
       "      <td>1965.7400</td>\n",
       "      <td>1978.5840</td>\n",
       "      <td>1952.4090</td>\n",
       "      <td>1965.7400</td>\n",
       "      <td>1938.7670</td>\n",
       "      <td>20878339302</td>\n",
       "      <td>3484.6824</td>\n",
       "    </tr>\n",
       "    <tr>\n",
       "      <th>20</th>\n",
       "      <td>399107</td>\n",
       "      <td>深证Ａ指</td>\n",
       "      <td>-1.32</td>\n",
       "      <td>2056.1860</td>\n",
       "      <td>2069.6800</td>\n",
       "      <td>2042.2820</td>\n",
       "      <td>2056.1860</td>\n",
       "      <td>2027.9580</td>\n",
       "      <td>20840459284</td>\n",
       "      <td>3482.3809</td>\n",
       "    </tr>\n",
       "    <tr>\n",
       "      <th>21</th>\n",
       "      <td>399108</td>\n",
       "      <td>深证Ｂ指</td>\n",
       "      <td>-1.12</td>\n",
       "      <td>1152.9520</td>\n",
       "      <td>1152.5460</td>\n",
       "      <td>1139.6710</td>\n",
       "      <td>1152.9520</td>\n",
       "      <td>1135.8170</td>\n",
       "      <td>37880018</td>\n",
       "      <td>2.3016</td>\n",
       "    </tr>\n",
       "    <tr>\n",
       "      <th>22</th>\n",
       "      <td>399333</td>\n",
       "      <td>中小板R</td>\n",
       "      <td>-1.91</td>\n",
       "      <td>7539.7820</td>\n",
       "      <td>7595.3330</td>\n",
       "      <td>7450.4650</td>\n",
       "      <td>7539.7820</td>\n",
       "      <td>7415.0170</td>\n",
       "      <td>1512112463</td>\n",
       "      <td>285.6013</td>\n",
       "    </tr>\n",
       "    <tr>\n",
       "      <th>23</th>\n",
       "      <td>399606</td>\n",
       "      <td>创业板R</td>\n",
       "      <td>-1.88</td>\n",
       "      <td>2360.9810</td>\n",
       "      <td>2382.2210</td>\n",
       "      <td>2337.4300</td>\n",
       "      <td>2360.9810</td>\n",
       "      <td>2320.6610</td>\n",
       "      <td>1430977206</td>\n",
       "      <td>351.8518</td>\n",
       "    </tr>\n",
       "  </tbody>\n",
       "</table>\n",
       "</div>"
      ],
      "text/plain": [
       "      code    name  change        open    preclose       close        high  \\\n",
       "0   000001    上证指数   -1.44   3058.4629   3078.1166   3033.6604   3058.4629   \n",
       "1   000002    Ａ股指数   -1.45   3200.7127   3221.3384   3174.7592   3200.7127   \n",
       "2   000003    Ｂ股指数   -1.05    380.1539    381.0027    376.9998    380.1539   \n",
       "3   000008    综合指数   -1.08   2672.0616   2689.5274   2660.3965   2672.0808   \n",
       "4   000009   上证380   -1.74   5566.4126   5603.6921   5506.2015   5566.4126   \n",
       "5   000010   上证180   -1.33   6994.0475   7039.3256   6945.8334   6994.0475   \n",
       "6   000011    基金指数   -0.39   5684.4811   5691.7921   5669.3338   5684.4811   \n",
       "7   000012    国债指数    0.03    156.8008    156.7556    156.8044    156.8052   \n",
       "8   000016    上证50   -1.09   2166.0031   2182.0667   2158.2302   2168.8968   \n",
       "9   000017     新综指   -1.45   2581.0554   2597.6936   2560.0735   2581.0554   \n",
       "10  000300   沪深300   -1.34   3252.6706   3272.2053   3228.4531   3252.6706   \n",
       "11  399001    深证成指   -1.53  10665.4400  10733.6350  10568.9300  10665.4400   \n",
       "12  399002    深成指R   -1.53  12470.2030  12549.2090  12357.3620  12470.2030   \n",
       "13  399003    成份Ｂ指   -2.02   6494.7200   6494.3920   6363.5120   6494.7200   \n",
       "14  399004  深证100R   -1.55   4492.6660   4517.9240   4448.0510   4492.6660   \n",
       "15  399005    中小板指   -1.91   6960.6350   7011.9190   6878.1790   6960.6350   \n",
       "16  399006    创业板指   -1.91   2288.4200   2309.6760   2265.5930   2288.4200   \n",
       "17  399100   新 指 数   -1.35   8548.0840   8602.4030   8486.6520   8548.0840   \n",
       "18  399101    中小板综   -1.24  11508.2730  11583.6480  11439.8950  11508.2730   \n",
       "19  399106    深证综指   -1.32   1965.7400   1978.5840   1952.4090   1965.7400   \n",
       "20  399107    深证Ａ指   -1.32   2056.1860   2069.6800   2042.2820   2056.1860   \n",
       "21  399108    深证Ｂ指   -1.12   1152.9520   1152.5460   1139.6710   1152.9520   \n",
       "22  399333    中小板R   -1.91   7539.7820   7595.3330   7450.4650   7539.7820   \n",
       "23  399606    创业板R   -1.88   2360.9810   2382.2210   2337.4300   2360.9810   \n",
       "\n",
       "           low       volume     amount  \n",
       "0    3022.9701    183304512  2086.1309  \n",
       "1    3163.5444    182805200  2082.3012  \n",
       "2     376.0425       499312     3.8296  \n",
       "3    2656.0173     46914387   547.6994  \n",
       "4    5473.2411     55255067   650.9533  \n",
       "5    6940.0207     68067285   691.6577  \n",
       "6    5666.0849     12776877   326.7563  \n",
       "7     156.7246       194671     2.0627  \n",
       "8    2154.3812     24410918   258.0037  \n",
       "9    2551.0251    182656620  2080.7720  \n",
       "10   3221.6623     97090069  1039.5615  \n",
       "11  10508.9790  20878339302  3484.6824  \n",
       "12  12287.2670   9748426757  1487.7426  \n",
       "13   6336.9260     15097286     1.0626  \n",
       "14   4428.5380   3120378013   407.1551  \n",
       "15   6845.4540   1512112463   285.6013  \n",
       "16   2249.3390   1430977206   351.8518  \n",
       "17   8427.2630  20614978454  3460.2602  \n",
       "18  11353.7950   8760388564  1652.3311  \n",
       "19   1938.7670  20878339302  3484.6824  \n",
       "20   2027.9580  20840459284  3482.3809  \n",
       "21   1135.8170     37880018     2.3016  \n",
       "22   7415.0170   1512112463   285.6013  \n",
       "23   2320.6610   1430977206   351.8518  "
      ]
     },
     "execution_count": 2,
     "metadata": {},
     "output_type": "execute_result"
    }
   ],
   "source": [
    "ind=ts.get_index()\n",
    "ind"
   ]
  },
  {
   "cell_type": "markdown",
   "metadata": {},
   "source": [
    "### 获得近三年的日线数据"
   ]
  },
  {
   "cell_type": "code",
   "execution_count": 3,
   "metadata": {
    "collapsed": false
   },
   "outputs": [
    {
     "data": {
      "text/html": [
       "<div>\n",
       "<table border=\"1\" class=\"dataframe\">\n",
       "  <thead>\n",
       "    <tr style=\"text-align: right;\">\n",
       "      <th></th>\n",
       "      <th>open</th>\n",
       "      <th>high</th>\n",
       "      <th>close</th>\n",
       "      <th>low</th>\n",
       "      <th>volume</th>\n",
       "      <th>price_change</th>\n",
       "      <th>p_change</th>\n",
       "      <th>ma5</th>\n",
       "      <th>ma10</th>\n",
       "      <th>ma20</th>\n",
       "      <th>v_ma5</th>\n",
       "      <th>v_ma10</th>\n",
       "      <th>v_ma20</th>\n",
       "    </tr>\n",
       "    <tr>\n",
       "      <th>date</th>\n",
       "      <th></th>\n",
       "      <th></th>\n",
       "      <th></th>\n",
       "      <th></th>\n",
       "      <th></th>\n",
       "      <th></th>\n",
       "      <th></th>\n",
       "      <th></th>\n",
       "      <th></th>\n",
       "      <th></th>\n",
       "      <th></th>\n",
       "      <th></th>\n",
       "      <th></th>\n",
       "    </tr>\n",
       "  </thead>\n",
       "  <tbody>\n",
       "    <tr>\n",
       "      <th>2016-04-18</th>\n",
       "      <td>3058.46</td>\n",
       "      <td>3058.46</td>\n",
       "      <td>3033.66</td>\n",
       "      <td>3022.97</td>\n",
       "      <td>1833045.12</td>\n",
       "      <td>-44.46</td>\n",
       "      <td>-1.44</td>\n",
       "      <td>3056.886</td>\n",
       "      <td>3041.543</td>\n",
       "      <td>3013.785</td>\n",
       "      <td>2147754.60</td>\n",
       "      <td>2191712.16</td>\n",
       "      <td>2232932.74</td>\n",
       "    </tr>\n",
       "    <tr>\n",
       "      <th>2016-04-15</th>\n",
       "      <td>3085.03</td>\n",
       "      <td>3089.95</td>\n",
       "      <td>3078.12</td>\n",
       "      <td>3066.87</td>\n",
       "      <td>1896130.50</td>\n",
       "      <td>-4.24</td>\n",
       "      <td>-0.14</td>\n",
       "      <td>3056.946</td>\n",
       "      <td>3039.130</td>\n",
       "      <td>3009.859</td>\n",
       "      <td>2221182.22</td>\n",
       "      <td>2214953.51</td>\n",
       "      <td>2297946.85</td>\n",
       "    </tr>\n",
       "    <tr>\n",
       "      <th>2016-04-14</th>\n",
       "      <td>3080.09</td>\n",
       "      <td>3086.70</td>\n",
       "      <td>3082.36</td>\n",
       "      <td>3056.99</td>\n",
       "      <td>2082378.25</td>\n",
       "      <td>15.72</td>\n",
       "      <td>0.51</td>\n",
       "      <td>3038.314</td>\n",
       "      <td>3031.710</td>\n",
       "      <td>3001.195</td>\n",
       "      <td>2217765.40</td>\n",
       "      <td>2245753.91</td>\n",
       "      <td>2303285.43</td>\n",
       "    </tr>\n",
       "    <tr>\n",
       "      <th>2016-04-13</th>\n",
       "      <td>3041.36</td>\n",
       "      <td>3097.16</td>\n",
       "      <td>3066.64</td>\n",
       "      <td>3041.36</td>\n",
       "      <td>3100032.50</td>\n",
       "      <td>42.99</td>\n",
       "      <td>1.42</td>\n",
       "      <td>3023.526</td>\n",
       "      <td>3023.538</td>\n",
       "      <td>2990.598</td>\n",
       "      <td>2243128.75</td>\n",
       "      <td>2247887.54</td>\n",
       "      <td>2292412.79</td>\n",
       "    </tr>\n",
       "    <tr>\n",
       "      <th>2016-04-12</th>\n",
       "      <td>3031.30</td>\n",
       "      <td>3036.82</td>\n",
       "      <td>3023.65</td>\n",
       "      <td>3001.32</td>\n",
       "      <td>1827186.62</td>\n",
       "      <td>-10.31</td>\n",
       "      <td>-0.34</td>\n",
       "      <td>3020.316</td>\n",
       "      <td>3008.857</td>\n",
       "      <td>2980.485</td>\n",
       "      <td>2087646.35</td>\n",
       "      <td>2120849.64</td>\n",
       "      <td>2219104.49</td>\n",
       "    </tr>\n",
       "  </tbody>\n",
       "</table>\n",
       "</div>"
      ],
      "text/plain": [
       "               open     high    close      low      volume  price_change  \\\n",
       "date                                                                       \n",
       "2016-04-18  3058.46  3058.46  3033.66  3022.97  1833045.12        -44.46   \n",
       "2016-04-15  3085.03  3089.95  3078.12  3066.87  1896130.50         -4.24   \n",
       "2016-04-14  3080.09  3086.70  3082.36  3056.99  2082378.25         15.72   \n",
       "2016-04-13  3041.36  3097.16  3066.64  3041.36  3100032.50         42.99   \n",
       "2016-04-12  3031.30  3036.82  3023.65  3001.32  1827186.62        -10.31   \n",
       "\n",
       "            p_change       ma5      ma10      ma20       v_ma5      v_ma10  \\\n",
       "date                                                                         \n",
       "2016-04-18     -1.44  3056.886  3041.543  3013.785  2147754.60  2191712.16   \n",
       "2016-04-15     -0.14  3056.946  3039.130  3009.859  2221182.22  2214953.51   \n",
       "2016-04-14      0.51  3038.314  3031.710  3001.195  2217765.40  2245753.91   \n",
       "2016-04-13      1.42  3023.526  3023.538  2990.598  2243128.75  2247887.54   \n",
       "2016-04-12     -0.34  3020.316  3008.857  2980.485  2087646.35  2120849.64   \n",
       "\n",
       "                v_ma20  \n",
       "date                    \n",
       "2016-04-18  2232932.74  \n",
       "2016-04-15  2297946.85  \n",
       "2016-04-14  2303285.43  \n",
       "2016-04-13  2292412.79  \n",
       "2016-04-12  2219104.49  "
      ]
     },
     "execution_count": 3,
     "metadata": {},
     "output_type": "execute_result"
    }
   ],
   "source": [
    "dp=ts.get_hist_data(code1)\n",
    "dp[:5]"
   ]
  },
  {
   "cell_type": "markdown",
   "metadata": {},
   "source": [
    "### 获得涨幅数据列，并绘制涨幅分布图"
   ]
  },
  {
   "cell_type": "code",
   "execution_count": 4,
   "metadata": {
    "collapsed": false
   },
   "outputs": [
    {
     "name": "stdout",
     "output_type": "stream",
     "text": [
      "最小值： -8.49\n",
      "最大值： 5.76\n",
      "平均值： 0.0578159340659\n",
      "标准差： 1.79948388877\n"
     ]
    },
    {
     "data": {
      "image/png": "[encoded data removed]",
      "text/plain": [
       "<matplotlib.figure.Figure at 0xcce3c88>"
      ]
     },
     "metadata": {},
     "output_type": "display_data"
    }
   ],
   "source": [
    "pc=dp.p_change\n",
    "pxt=np.arange(-12,12,1)\n",
    "pxl=[-12,12]\n",
    "pc.plot(kind='kde',grid=True,figsize=(16,9),xticks=pxt,xlim=pxl)\n",
    "print '最小值：',pc.min()\n",
    "print '最大值：',pc.max()\n",
    "print '平均值：',pc.mean()\n",
    "print '标准差：',pc.std()"
   ]
  },
  {
   "cell_type": "markdown",
   "metadata": {},
   "source": [
    "-  \n",
    "\n",
    "-  "
   ]
  },
  {
   "cell_type": "markdown",
   "metadata": {},
   "source": [
    "### 近20日的涨幅数据及分布图"
   ]
  },
  {
   "cell_type": "code",
   "execution_count": 5,
   "metadata": {
    "collapsed": false
   },
   "outputs": [
    {
     "name": "stdout",
     "output_type": "stream",
     "text": [
      "最小值： -1.63\n",
      "最大值： 2.77\n",
      "平均值： 0.139\n",
      "标准差： 1.24570799992\n"
     ]
    },
    {
     "data": {
      "image/png": "[encoded data removed]",
      "text/plain": [
       "<matplotlib.figure.Figure at 0x19beeb70>"
      ]
     },
     "metadata": {},
     "output_type": "display_data"
    }
   ],
   "source": [
    "pc20=dp[:20].p_change\n",
    "pc.plot(kind='kde',grid=True,figsize=(16,9),xticks=pxt,xlim=pxl)\n",
    "pc20.plot(kind='kde',grid=True,figsize=(16,9),xticks=pxt,xlim=pxl)\n",
    "print '最小值：',pc20.min()\n",
    "print '最大值：',pc20.max()\n",
    "print '平均值：',pc20.mean()\n",
    "print '标准差：',pc20.std()"
   ]
  },
  {
   "cell_type": "markdown",
   "metadata": {},
   "source": [
    "- 根据月内数据与三年数据的比较，判断近期行情的重心"
   ]
  },
  {
   "cell_type": "markdown",
   "metadata": {},
   "source": [
    "### 分析三年数据的收盘价分布情况"
   ]
  },
  {
   "cell_type": "code",
   "execution_count": 6,
   "metadata": {
    "collapsed": false
   },
   "outputs": [
    {
     "name": "stdout",
     "output_type": "stream",
     "text": [
      "最小值： 1950.013\n",
      "最大值： 5166.35\n",
      "平均值： 2780.14462363\n",
      "标准差： 786.860480417\n"
     ]
    },
    {
     "data": {
      "image/png": "[encoded data removed]",
      "text/plain": [
       "<matplotlib.figure.Figure at 0xce56438>"
      ]
     },
     "metadata": {},
     "output_type": "display_data"
    }
   ],
   "source": [
    "close=dp.close\n",
    "cxt=np.arange(600,6000,200)\n",
    "cxl=[600,6000]\n",
    "close.plot(kind='kde',grid=True,figsize=(16,9),xticks=cxt,xlim=cxl)\n",
    "print '最小值：',close.min()\n",
    "print '最大值：',close.max()\n",
    "print '平均值：',close.mean()\n",
    "print '标准差：',close.std()"
   ]
  },
  {
   "cell_type": "markdown",
   "metadata": {},
   "source": [
    "- 此图基本反应了 \n",
    "\n",
    " - \n",
    "\n",
    " -  "
   ]
  },
  {
   "cell_type": "markdown",
   "metadata": {},
   "source": [
    "近20日收盘价分布情况对比"
   ]
  },
  {
   "cell_type": "code",
   "execution_count": 7,
   "metadata": {
    "collapsed": false
   },
   "outputs": [
    {
     "name": "stdout",
     "output_type": "stream",
     "text": [
      "最小值： 2919.83\n",
      "最大值： 3082.36\n",
      "平均值： 3013.7845\n",
      "标准差： 41.5220364417\n"
     ]
    },
    {
     "data": {
      "image/png": "[encoded data removed]",
      "text/plain": [
       "<matplotlib.figure.Figure at 0x19c63860>"
      ]
     },
     "metadata": {},
     "output_type": "display_data"
    }
   ],
   "source": [
    "close20=dp[:20].close\n",
    "close.plot(kind='kde',grid=True,figsize=(16,9),xticks=cxt,xlim=cxl)\n",
    "close20.plot(kind='kde',grid=True,figsize=(16,9),xticks=cxt,xlim=cxl)\n",
    "print '最小值：',close20.min()\n",
    "print '最大值：',close20.max()\n",
    "print '平均值：',close20.mean()\n",
    "print '标准差：',close20.std()"
   ]
  },
  {
   "cell_type": "markdown",
   "metadata": {},
   "source": [
    "近20日的收盘价数据与三年数据的对比，判断目前价格位置"
   ]
  },
  {
   "cell_type": "markdown",
   "metadata": {
    "collapsed": true
   },
   "source": [
    "### 对全部数据的收盘价分析"
   ]
  },
  {
   "cell_type": "markdown",
   "metadata": {},
   "source": [
    "#### 获取全部数据（从2000年1月1日起）"
   ]
  },
  {
   "cell_type": "code",
   "execution_count": 8,
   "metadata": {
    "collapsed": false
   },
   "outputs": [
    {
     "name": "stdout",
     "output_type": "stream",
     "text": [
      "[Getting data:]#################################################################"
     ]
    },
    {
     "data": {
      "text/html": [
       "<div>\n",
       "<table border=\"1\" class=\"dataframe\">\n",
       "  <thead>\n",
       "    <tr style=\"text-align: right;\">\n",
       "      <th></th>\n",
       "      <th>open</th>\n",
       "      <th>high</th>\n",
       "      <th>close</th>\n",
       "      <th>low</th>\n",
       "      <th>volume</th>\n",
       "      <th>amount</th>\n",
       "    </tr>\n",
       "    <tr>\n",
       "      <th>date</th>\n",
       "      <th></th>\n",
       "      <th></th>\n",
       "      <th></th>\n",
       "      <th></th>\n",
       "      <th></th>\n",
       "      <th></th>\n",
       "    </tr>\n",
       "  </thead>\n",
       "  <tbody>\n",
       "    <tr>\n",
       "      <th>2016-04-15</th>\n",
       "      <td>3085.026</td>\n",
       "      <td>3089.951</td>\n",
       "      <td>3078.117</td>\n",
       "      <td>3066.872</td>\n",
       "      <td>18961305100</td>\n",
       "      <td>224141313373</td>\n",
       "    </tr>\n",
       "    <tr>\n",
       "      <th>2016-04-14</th>\n",
       "      <td>3080.090</td>\n",
       "      <td>3086.698</td>\n",
       "      <td>3082.362</td>\n",
       "      <td>3056.989</td>\n",
       "      <td>20823783000</td>\n",
       "      <td>235056056274</td>\n",
       "    </tr>\n",
       "    <tr>\n",
       "      <th>2016-04-13</th>\n",
       "      <td>3041.358</td>\n",
       "      <td>3097.165</td>\n",
       "      <td>3066.638</td>\n",
       "      <td>3041.358</td>\n",
       "      <td>31000324600</td>\n",
       "      <td>331420683224</td>\n",
       "    </tr>\n",
       "    <tr>\n",
       "      <th>2016-04-12</th>\n",
       "      <td>3031.301</td>\n",
       "      <td>3036.825</td>\n",
       "      <td>3023.646</td>\n",
       "      <td>3001.315</td>\n",
       "      <td>18271866800</td>\n",
       "      <td>207079807862</td>\n",
       "    </tr>\n",
       "    <tr>\n",
       "      <th>2016-04-11</th>\n",
       "      <td>3006.909</td>\n",
       "      <td>3048.977</td>\n",
       "      <td>3033.957</td>\n",
       "      <td>3006.909</td>\n",
       "      <td>22001832400</td>\n",
       "      <td>252328393482</td>\n",
       "    </tr>\n",
       "  </tbody>\n",
       "</table>\n",
       "</div>"
      ],
      "text/plain": [
       "                open      high     close       low       volume        amount\n",
       "date                                                                         \n",
       "2016-04-15  3085.026  3089.951  3078.117  3066.872  18961305100  224141313373\n",
       "2016-04-14  3080.090  3086.698  3082.362  3056.989  20823783000  235056056274\n",
       "2016-04-13  3041.358  3097.165  3066.638  3041.358  31000324600  331420683224\n",
       "2016-04-12  3031.301  3036.825  3023.646  3001.315  18271866800  207079807862\n",
       "2016-04-11  3006.909  3048.977  3033.957  3006.909  22001832400  252328393482"
      ]
     },
     "execution_count": 8,
     "metadata": {},
     "output_type": "execute_result"
    }
   ],
   "source": [
    "df=ts.get_h_data(code2,start='2000-01-01',index=1) \n",
    "df[:5]"
   ]
  },
  {
   "cell_type": "markdown",
   "metadata": {},
   "source": [
    "简单分析"
   ]
  },
  {
   "cell_type": "code",
   "execution_count": 9,
   "metadata": {
    "collapsed": false
   },
   "outputs": [
    {
     "data": {
      "text/html": [
       "<div>\n",
       "<table border=\"1\" class=\"dataframe\">\n",
       "  <thead>\n",
       "    <tr style=\"text-align: right;\">\n",
       "      <th></th>\n",
       "      <th>open</th>\n",
       "      <th>high</th>\n",
       "      <th>close</th>\n",
       "      <th>low</th>\n",
       "      <th>volume</th>\n",
       "      <th>amount</th>\n",
       "    </tr>\n",
       "  </thead>\n",
       "  <tbody>\n",
       "    <tr>\n",
       "      <th>count</th>\n",
       "      <td>3940.000000</td>\n",
       "      <td>3940.000000</td>\n",
       "      <td>3940.000000</td>\n",
       "      <td>3940.000000</td>\n",
       "      <td>3.940000e+03</td>\n",
       "      <td>3.940000e+03</td>\n",
       "    </tr>\n",
       "    <tr>\n",
       "      <th>mean</th>\n",
       "      <td>2327.436616</td>\n",
       "      <td>2350.633138</td>\n",
       "      <td>2329.386344</td>\n",
       "      <td>2302.487715</td>\n",
       "      <td>8.953960e+09</td>\n",
       "      <td>9.652823e+10</td>\n",
       "    </tr>\n",
       "    <tr>\n",
       "      <th>std</th>\n",
       "      <td>926.098928</td>\n",
       "      <td>940.142237</td>\n",
       "      <td>927.042352</td>\n",
       "      <td>909.040942</td>\n",
       "      <td>1.138364e+10</td>\n",
       "      <td>1.466821e+11</td>\n",
       "    </tr>\n",
       "    <tr>\n",
       "      <th>min</th>\n",
       "      <td>1007.901000</td>\n",
       "      <td>1019.922000</td>\n",
       "      <td>1011.499000</td>\n",
       "      <td>998.228000</td>\n",
       "      <td>2.497117e+08</td>\n",
       "      <td>2.659838e+09</td>\n",
       "    </tr>\n",
       "    <tr>\n",
       "      <th>25%</th>\n",
       "      <td>1636.636750</td>\n",
       "      <td>1650.014500</td>\n",
       "      <td>1635.417250</td>\n",
       "      <td>1619.684000</td>\n",
       "      <td>1.395043e+09</td>\n",
       "      <td>1.083111e+10</td>\n",
       "    </tr>\n",
       "    <tr>\n",
       "      <th>50%</th>\n",
       "      <td>2127.039500</td>\n",
       "      <td>2138.344500</td>\n",
       "      <td>2127.195000</td>\n",
       "      <td>2109.178000</td>\n",
       "      <td>6.064934e+09</td>\n",
       "      <td>5.782025e+10</td>\n",
       "    </tr>\n",
       "    <tr>\n",
       "      <th>75%</th>\n",
       "      <td>2831.056000</td>\n",
       "      <td>2864.322500</td>\n",
       "      <td>2835.600500</td>\n",
       "      <td>2791.818500</td>\n",
       "      <td>1.135084e+10</td>\n",
       "      <td>1.169853e+11</td>\n",
       "    </tr>\n",
       "    <tr>\n",
       "      <th>max</th>\n",
       "      <td>6057.428000</td>\n",
       "      <td>6124.044000</td>\n",
       "      <td>6092.057000</td>\n",
       "      <td>6040.713000</td>\n",
       "      <td>8.571328e+10</td>\n",
       "      <td>1.309925e+12</td>\n",
       "    </tr>\n",
       "  </tbody>\n",
       "</table>\n",
       "</div>"
      ],
      "text/plain": [
       "              open         high        close          low        volume  \\\n",
       "count  3940.000000  3940.000000  3940.000000  3940.000000  3.940000e+03   \n",
       "mean   2327.436616  2350.633138  2329.386344  2302.487715  8.953960e+09   \n",
       "std     926.098928   940.142237   927.042352   909.040942  1.138364e+10   \n",
       "min    1007.901000  1019.922000  1011.499000   998.228000  2.497117e+08   \n",
       "25%    1636.636750  1650.014500  1635.417250  1619.684000  1.395043e+09   \n",
       "50%    2127.039500  2138.344500  2127.195000  2109.178000  6.064934e+09   \n",
       "75%    2831.056000  2864.322500  2835.600500  2791.818500  1.135084e+10   \n",
       "max    6057.428000  6124.044000  6092.057000  6040.713000  8.571328e+10   \n",
       "\n",
       "             amount  \n",
       "count  3.940000e+03  \n",
       "mean   9.652823e+10  \n",
       "std    1.466821e+11  \n",
       "min    2.659838e+09  \n",
       "25%    1.083111e+10  \n",
       "50%    5.782025e+10  \n",
       "75%    1.169853e+11  \n",
       "max    1.309925e+12  "
      ]
     },
     "execution_count": 9,
     "metadata": {},
     "output_type": "execute_result"
    }
   ],
   "source": [
    "df.describe()"
   ]
  },
  {
   "cell_type": "markdown",
   "metadata": {},
   "source": [
    "收盘价分析"
   ]
  },
  {
   "cell_type": "code",
   "execution_count": 10,
   "metadata": {
    "collapsed": false
   },
   "outputs": [
    {
     "name": "stdout",
     "output_type": "stream",
     "text": [
      "最小值： 1011.499\n",
      "最大值： 6092.057\n",
      "平均值： 2329.38634416\n",
      "标准差： 927.042351624\n"
     ]
    },
    {
     "data": {
      "image/png": "[encoded data removed]",
      "text/plain": [
       "<matplotlib.figure.Figure at 0x1a2c6198>"
      ]
     },
     "metadata": {},
     "output_type": "display_data"
    }
   ],
   "source": [
    "closeall=df.close\n",
    "nxt=np.arange(500,7000,200)\n",
    "nxl=[500,7000]\n",
    "closeall.plot(kind='kde',grid=True,figsize=(16,9),xticks=nxt,xlim=nxl)\n",
    "print '最小值：',closeall.min()\n",
    "print '最大值：',closeall.max()\n",
    "print '平均值：',closeall.mean()\n",
    "print '标准差：',closeall.std()"
   ]
  },
  {
   "cell_type": "markdown",
   "metadata": {},
   "source": [
    "- 除权数据的分析中，价格范围相比三年数据扩大不多。特点为：\n",
    "\n",
    " -  \n",
    " \n",
    " -  \n",
    " \n",
    "  -  "
   ]
  },
  {
   "cell_type": "markdown",
   "metadata": {},
   "source": [
    "与20日收盘价对比"
   ]
  },
  {
   "cell_type": "code",
   "execution_count": 11,
   "metadata": {
    "collapsed": false
   },
   "outputs": [
    {
     "data": {
      "text/plain": [
       "<matplotlib.axes._subplots.AxesSubplot at 0x19dd2828>"
      ]
     },
     "execution_count": 11,
     "metadata": {},
     "output_type": "execute_result"
    },
    {
     "data": {
      "image/png": "[encoded data removed]",
      "text/plain": [
       "<matplotlib.figure.Figure at 0x19de6978>"
      ]
     },
     "metadata": {},
     "output_type": "display_data"
    }
   ],
   "source": [
    "closeall20=df[:20].close\n",
    "closeall.plot(kind='kde',grid=True,figsize=(16,9))\n",
    "closeall20.plot(kind='kde',grid=True,figsize=(16,9),xticks=nxt,xlim=nxl)"
   ]
  },
  {
   "cell_type": "markdown",
   "metadata": {},
   "source": [
    "*三个月多阶段对比*"
   ]
  },
  {
   "cell_type": "code",
   "execution_count": 12,
   "metadata": {
    "collapsed": false
   },
   "outputs": [
    {
     "data": {
      "text/plain": [
       "<matplotlib.axes._subplots.AxesSubplot at 0x1a172ac8>"
      ]
     },
     "execution_count": 12,
     "metadata": {},
     "output_type": "execute_result"
    },
    {
     "data": {
      "image/png": "[encoded data removed]",
      "text/plain": [
       "<matplotlib.figure.Figure at 0x1a164f28>"
      ]
     },
     "metadata": {},
     "output_type": "display_data"
    }
   ],
   "source": [
    "closeall40=df[20:40].close\n",
    "closeall60=df[40:60].close\n",
    "closeall.plot(kind='kde',grid=True,figsize=(16,9))\n",
    "closeall20.plot(kind='kde',grid=True,figsize=(16,9))\n",
    "closeall40.plot(kind='kde',grid=True,figsize=(16,9))\n",
    "closeall60.plot(kind='kde',grid=True,figsize=(16,9),xticks=nxt,xlim=nxl)"
   ]
  },
  {
   "cell_type": "code",
   "execution_count": 13,
   "metadata": {
    "collapsed": false
   },
   "outputs": [
    {
     "data": {
      "text/plain": [
       "count      20.000000\n",
       "mean     3009.858800\n",
       "std        43.219668\n",
       "min      2919.832000\n",
       "25%      2983.577000\n",
       "50%      3008.975000\n",
       "75%      3038.115750\n",
       "max      3082.362000\n",
       "Name: close, dtype: float64"
      ]
     },
     "execution_count": 13,
     "metadata": {},
     "output_type": "execute_result"
    }
   ],
   "source": [
    "closeall20.describe()"
   ]
  },
  {
   "cell_type": "code",
   "execution_count": 14,
   "metadata": {
    "collapsed": false
   },
   "outputs": [
    {
     "data": {
      "text/plain": [
       "count      20.00000\n",
       "mean     2845.40290\n",
       "std        67.41389\n",
       "min      2687.97900\n",
       "25%      2808.91175\n",
       "50%      2861.28850\n",
       "75%      2898.35175\n",
       "max      2928.89600\n",
       "Name: close, dtype: float64"
      ]
     },
     "execution_count": 14,
     "metadata": {},
     "output_type": "execute_result"
    }
   ],
   "source": [
    "closeall40.describe()"
   ]
  },
  {
   "cell_type": "code",
   "execution_count": 15,
   "metadata": {
    "collapsed": false
   },
   "outputs": [
    {
     "data": {
      "text/plain": [
       "count      20.000000\n",
       "mean     2822.429350\n",
       "std       100.295244\n",
       "min      2655.661000\n",
       "25%      2744.458750\n",
       "50%      2808.797000\n",
       "75%      2904.186750\n",
       "max      3007.739000\n",
       "Name: close, dtype: float64"
      ]
     },
     "execution_count": 15,
     "metadata": {},
     "output_type": "execute_result"
    }
   ],
   "source": [
    "closeall60.describe()"
   ]
  },
  {
   "cell_type": "markdown",
   "metadata": {
    "collapsed": true
   },
   "source": [
    "### 三年数据和全部数据的基本统计对比"
   ]
  },
  {
   "cell_type": "markdown",
   "metadata": {},
   "source": [
    "- 三年数据："
   ]
  },
  {
   "cell_type": "code",
   "execution_count": 16,
   "metadata": {
    "collapsed": false
   },
   "outputs": [
    {
     "data": {
      "text/html": [
       "<div>\n",
       "<table border=\"1\" class=\"dataframe\">\n",
       "  <thead>\n",
       "    <tr style=\"text-align: right;\">\n",
       "      <th></th>\n",
       "      <th>open</th>\n",
       "      <th>high</th>\n",
       "      <th>close</th>\n",
       "      <th>low</th>\n",
       "      <th>volume</th>\n",
       "      <th>price_change</th>\n",
       "      <th>p_change</th>\n",
       "      <th>ma5</th>\n",
       "      <th>ma10</th>\n",
       "      <th>ma20</th>\n",
       "      <th>v_ma5</th>\n",
       "      <th>v_ma10</th>\n",
       "      <th>v_ma20</th>\n",
       "    </tr>\n",
       "  </thead>\n",
       "  <tbody>\n",
       "    <tr>\n",
       "      <th>count</th>\n",
       "      <td>728.000000</td>\n",
       "      <td>728.000000</td>\n",
       "      <td>728.000000</td>\n",
       "      <td>728.000000</td>\n",
       "      <td>728.000000</td>\n",
       "      <td>728.000000</td>\n",
       "      <td>728.000000</td>\n",
       "      <td>728.000000</td>\n",
       "      <td>728.000000</td>\n",
       "      <td>728.000000</td>\n",
       "      <td>728.000000</td>\n",
       "      <td>728.000000</td>\n",
       "      <td>728.000000</td>\n",
       "    </tr>\n",
       "    <tr>\n",
       "      <th>mean</th>\n",
       "      <td>2775.165893</td>\n",
       "      <td>2806.871824</td>\n",
       "      <td>2780.144624</td>\n",
       "      <td>2744.273033</td>\n",
       "      <td>2430482.786016</td>\n",
       "      <td>1.083107</td>\n",
       "      <td>0.057816</td>\n",
       "      <td>2777.850518</td>\n",
       "      <td>2774.995420</td>\n",
       "      <td>2769.500713</td>\n",
       "      <td>2427526.736841</td>\n",
       "      <td>2423166.947060</td>\n",
       "      <td>2414396.226648</td>\n",
       "    </tr>\n",
       "    <tr>\n",
       "      <th>std</th>\n",
       "      <td>785.402521</td>\n",
       "      <td>803.369906</td>\n",
       "      <td>786.860480</td>\n",
       "      <td>762.927508</td>\n",
       "      <td>1744876.832963</td>\n",
       "      <td>62.201328</td>\n",
       "      <td>1.799484</td>\n",
       "      <td>785.163962</td>\n",
       "      <td>783.219969</td>\n",
       "      <td>778.798368</td>\n",
       "      <td>1698226.460074</td>\n",
       "      <td>1674299.818721</td>\n",
       "      <td>1646774.116280</td>\n",
       "    </tr>\n",
       "    <tr>\n",
       "      <th>min</th>\n",
       "      <td>1935.516000</td>\n",
       "      <td>1959.158000</td>\n",
       "      <td>1950.013000</td>\n",
       "      <td>1849.653000</td>\n",
       "      <td>562712.500000</td>\n",
       "      <td>-345.350000</td>\n",
       "      <td>-8.490000</td>\n",
       "      <td>1960.691000</td>\n",
       "      <td>1980.786000</td>\n",
       "      <td>2002.162000</td>\n",
       "      <td>647227.650000</td>\n",
       "      <td>678771.960000</td>\n",
       "      <td>706663.490000</td>\n",
       "    </tr>\n",
       "    <tr>\n",
       "      <th>25%</th>\n",
       "      <td>2103.139250</td>\n",
       "      <td>2114.249000</td>\n",
       "      <td>2103.645000</td>\n",
       "      <td>2092.821500</td>\n",
       "      <td>1049009.832500</td>\n",
       "      <td>-16.342250</td>\n",
       "      <td>-0.630000</td>\n",
       "      <td>2103.467500</td>\n",
       "      <td>2100.747500</td>\n",
       "      <td>2096.039000</td>\n",
       "      <td>1066323.930000</td>\n",
       "      <td>1072576.185000</td>\n",
       "      <td>1046379.650000</td>\n",
       "    </tr>\n",
       "    <tr>\n",
       "      <th>50%</th>\n",
       "      <td>2362.060000</td>\n",
       "      <td>2381.079000</td>\n",
       "      <td>2369.519500</td>\n",
       "      <td>2351.300000</td>\n",
       "      <td>1838869.065000</td>\n",
       "      <td>2.817500</td>\n",
       "      <td>0.115000</td>\n",
       "      <td>2360.978500</td>\n",
       "      <td>2354.697000</td>\n",
       "      <td>2347.002000</td>\n",
       "      <td>1888493.505000</td>\n",
       "      <td>1921047.000000</td>\n",
       "      <td>1908706.595000</td>\n",
       "    </tr>\n",
       "    <tr>\n",
       "      <th>75%</th>\n",
       "      <td>3300.038250</td>\n",
       "      <td>3347.798500</td>\n",
       "      <td>3311.902250</td>\n",
       "      <td>3277.439000</td>\n",
       "      <td>3282321.187500</td>\n",
       "      <td>22.526250</td>\n",
       "      <td>0.880000</td>\n",
       "      <td>3298.857000</td>\n",
       "      <td>3292.726250</td>\n",
       "      <td>3291.509000</td>\n",
       "      <td>3246690.737500</td>\n",
       "      <td>3306863.725000</td>\n",
       "      <td>3353657.595000</td>\n",
       "    </tr>\n",
       "    <tr>\n",
       "      <th>max</th>\n",
       "      <td>5174.418000</td>\n",
       "      <td>5178.191000</td>\n",
       "      <td>5166.350000</td>\n",
       "      <td>5103.401000</td>\n",
       "      <td>8571328.000000</td>\n",
       "      <td>224.190000</td>\n",
       "      <td>5.760000</td>\n",
       "      <td>5127.879000</td>\n",
       "      <td>5052.792000</td>\n",
       "      <td>4925.927000</td>\n",
       "      <td>7287151.900000</td>\n",
       "      <td>6936105.500000</td>\n",
       "      <td>6499392.930000</td>\n",
       "    </tr>\n",
       "  </tbody>\n",
       "</table>\n",
       "</div>"
      ],
      "text/plain": [
       "              open         high        close          low          volume  \\\n",
       "count   728.000000   728.000000   728.000000   728.000000      728.000000   \n",
       "mean   2775.165893  2806.871824  2780.144624  2744.273033  2430482.786016   \n",
       "std     785.402521   803.369906   786.860480   762.927508  1744876.832963   \n",
       "min    1935.516000  1959.158000  1950.013000  1849.653000   562712.500000   \n",
       "25%    2103.139250  2114.249000  2103.645000  2092.821500  1049009.832500   \n",
       "50%    2362.060000  2381.079000  2369.519500  2351.300000  1838869.065000   \n",
       "75%    3300.038250  3347.798500  3311.902250  3277.439000  3282321.187500   \n",
       "max    5174.418000  5178.191000  5166.350000  5103.401000  8571328.000000   \n",
       "\n",
       "       price_change    p_change          ma5         ma10         ma20  \\\n",
       "count    728.000000  728.000000   728.000000   728.000000   728.000000   \n",
       "mean       1.083107    0.057816  2777.850518  2774.995420  2769.500713   \n",
       "std       62.201328    1.799484   785.163962   783.219969   778.798368   \n",
       "min     -345.350000   -8.490000  1960.691000  1980.786000  2002.162000   \n",
       "25%      -16.342250   -0.630000  2103.467500  2100.747500  2096.039000   \n",
       "50%        2.817500    0.115000  2360.978500  2354.697000  2347.002000   \n",
       "75%       22.526250    0.880000  3298.857000  3292.726250  3291.509000   \n",
       "max      224.190000    5.760000  5127.879000  5052.792000  4925.927000   \n",
       "\n",
       "                v_ma5          v_ma10          v_ma20  \n",
       "count      728.000000      728.000000      728.000000  \n",
       "mean   2427526.736841  2423166.947060  2414396.226648  \n",
       "std    1698226.460074  1674299.818721  1646774.116280  \n",
       "min     647227.650000   678771.960000   706663.490000  \n",
       "25%    1066323.930000  1072576.185000  1046379.650000  \n",
       "50%    1888493.505000  1921047.000000  1908706.595000  \n",
       "75%    3246690.737500  3306863.725000  3353657.595000  \n",
       "max    7287151.900000  6936105.500000  6499392.930000  "
      ]
     },
     "execution_count": 16,
     "metadata": {},
     "output_type": "execute_result"
    }
   ],
   "source": [
    "dp.describe()"
   ]
  },
  {
   "cell_type": "markdown",
   "metadata": {},
   "source": [
    "- 全部前复权数据："
   ]
  },
  {
   "cell_type": "code",
   "execution_count": 17,
   "metadata": {
    "collapsed": false
   },
   "outputs": [
    {
     "data": {
      "text/html": [
       "<div>\n",
       "<table border=\"1\" class=\"dataframe\">\n",
       "  <thead>\n",
       "    <tr style=\"text-align: right;\">\n",
       "      <th></th>\n",
       "      <th>open</th>\n",
       "      <th>high</th>\n",
       "      <th>close</th>\n",
       "      <th>low</th>\n",
       "      <th>volume</th>\n",
       "      <th>amount</th>\n",
       "    </tr>\n",
       "  </thead>\n",
       "  <tbody>\n",
       "    <tr>\n",
       "      <th>count</th>\n",
       "      <td>3940.000000</td>\n",
       "      <td>3940.000000</td>\n",
       "      <td>3940.000000</td>\n",
       "      <td>3940.000000</td>\n",
       "      <td>3.940000e+03</td>\n",
       "      <td>3.940000e+03</td>\n",
       "    </tr>\n",
       "    <tr>\n",
       "      <th>mean</th>\n",
       "      <td>2327.436616</td>\n",
       "      <td>2350.633138</td>\n",
       "      <td>2329.386344</td>\n",
       "      <td>2302.487715</td>\n",
       "      <td>8.953960e+09</td>\n",
       "      <td>9.652823e+10</td>\n",
       "    </tr>\n",
       "    <tr>\n",
       "      <th>std</th>\n",
       "      <td>926.098928</td>\n",
       "      <td>940.142237</td>\n",
       "      <td>927.042352</td>\n",
       "      <td>909.040942</td>\n",
       "      <td>1.138364e+10</td>\n",
       "      <td>1.466821e+11</td>\n",
       "    </tr>\n",
       "    <tr>\n",
       "      <th>min</th>\n",
       "      <td>1007.901000</td>\n",
       "      <td>1019.922000</td>\n",
       "      <td>1011.499000</td>\n",
       "      <td>998.228000</td>\n",
       "      <td>2.497117e+08</td>\n",
       "      <td>2.659838e+09</td>\n",
       "    </tr>\n",
       "    <tr>\n",
       "      <th>25%</th>\n",
       "      <td>1636.636750</td>\n",
       "      <td>1650.014500</td>\n",
       "      <td>1635.417250</td>\n",
       "      <td>1619.684000</td>\n",
       "      <td>1.395043e+09</td>\n",
       "      <td>1.083111e+10</td>\n",
       "    </tr>\n",
       "    <tr>\n",
       "      <th>50%</th>\n",
       "      <td>2127.039500</td>\n",
       "      <td>2138.344500</td>\n",
       "      <td>2127.195000</td>\n",
       "      <td>2109.178000</td>\n",
       "      <td>6.064934e+09</td>\n",
       "      <td>5.782025e+10</td>\n",
       "    </tr>\n",
       "    <tr>\n",
       "      <th>75%</th>\n",
       "      <td>2831.056000</td>\n",
       "      <td>2864.322500</td>\n",
       "      <td>2835.600500</td>\n",
       "      <td>2791.818500</td>\n",
       "      <td>1.135084e+10</td>\n",
       "      <td>1.169853e+11</td>\n",
       "    </tr>\n",
       "    <tr>\n",
       "      <th>max</th>\n",
       "      <td>6057.428000</td>\n",
       "      <td>6124.044000</td>\n",
       "      <td>6092.057000</td>\n",
       "      <td>6040.713000</td>\n",
       "      <td>8.571328e+10</td>\n",
       "      <td>1.309925e+12</td>\n",
       "    </tr>\n",
       "  </tbody>\n",
       "</table>\n",
       "</div>"
      ],
      "text/plain": [
       "              open         high        close          low        volume  \\\n",
       "count  3940.000000  3940.000000  3940.000000  3940.000000  3.940000e+03   \n",
       "mean   2327.436616  2350.633138  2329.386344  2302.487715  8.953960e+09   \n",
       "std     926.098928   940.142237   927.042352   909.040942  1.138364e+10   \n",
       "min    1007.901000  1019.922000  1011.499000   998.228000  2.497117e+08   \n",
       "25%    1636.636750  1650.014500  1635.417250  1619.684000  1.395043e+09   \n",
       "50%    2127.039500  2138.344500  2127.195000  2109.178000  6.064934e+09   \n",
       "75%    2831.056000  2864.322500  2835.600500  2791.818500  1.135084e+10   \n",
       "max    6057.428000  6124.044000  6092.057000  6040.713000  8.571328e+10   \n",
       "\n",
       "             amount  \n",
       "count  3.940000e+03  \n",
       "mean   9.652823e+10  \n",
       "std    1.466821e+11  \n",
       "min    2.659838e+09  \n",
       "25%    1.083111e+10  \n",
       "50%    5.782025e+10  \n",
       "75%    1.169853e+11  \n",
       "max    1.309925e+12  "
      ]
     },
     "execution_count": 17,
     "metadata": {},
     "output_type": "execute_result"
    }
   ],
   "source": [
    "df.describe()"
   ]
  },
  {
   "cell_type": "markdown",
   "metadata": {},
   "source": []
  }
 ],
 "metadata": {
  "kernelspec": {
   "display_name": "Python 2",
   "language": "python",
   "name": "python2"
  },
  "language_info": {
   "codemirror_mode": {
    "name": "ipython",
    "version": 2
   },
   "file_extension": ".py",
   "mimetype": "text/x-python",
   "name": "python",
   "nbconvert_exporter": "python",
   "pygments_lexer": "ipython2",
   "version": "2.7.10"
  }
 },
 "nbformat": 4,
 "nbformat_minor": 0
}
